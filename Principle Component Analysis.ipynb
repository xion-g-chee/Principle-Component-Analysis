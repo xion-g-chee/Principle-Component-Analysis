{
 "cells": [
  {
   "cell_type": "markdown",
   "id": "1eb8effd",
   "metadata": {},
   "source": [
    "# Install and ensure we have the libraries needed.\n",
    "!pip install numpy\n",
    "!pip install scipy\n",
    "!pip install sklearn\n",
    "!pip install matplotlib\n",
    "!pip install seaborn\n",
    "!pip install pandas"
   ]
  },
  {
   "cell_type": "code",
   "execution_count": 1,
   "id": "97b91766",
   "metadata": {},
   "outputs": [],
   "source": [
    "# Import libraries needed.\n",
    "import numpy as np\n",
    "import pandas as pd\n",
    "import scipy.stats as stats\n",
    "import matplotlib.pyplot as plt\n",
    "import seaborn as sns\n",
    "from pandas import DataFrame\n",
    "from sklearn.decomposition import PCA\n",
    "from sklearn.preprocessing import StandardScaler\n",
    "\n",
    "\n",
    "from sklearn import decomposition"
   ]
  },
  {
   "cell_type": "code",
   "execution_count": 2,
   "id": "9880f538",
   "metadata": {},
   "outputs": [
    {
     "name": "stdout",
     "output_type": "stream",
     "text": [
      "      Unnamed: 0  CaseOrder Customer_id                           Interaction  \\\n",
      "0              1          1     K409198  aa90260b-4141-4a24-8e36-b04ce1f4f77b   \n",
      "1              2          2     S120509  fb76459f-c047-4a9d-8af9-e0f7d4ac2524   \n",
      "2              3          3     K191035  344d114c-3736-4be5-98f7-c72c281e2d35   \n",
      "3              4          4      D90850  abfa2b40-2d43-4994-b15a-989b8c79e311   \n",
      "4              5          5     K662701  68a861fd-0d20-4e51-a587-8a90407ee574   \n",
      "...          ...        ...         ...                                   ...   \n",
      "9995        9996       9996     M324793  45deb5a2-ae04-4518-bf0b-c82db8dbe4a4   \n",
      "9996        9997       9997     D861732  6e96b921-0c09-4993-bbda-a1ac6411061a   \n",
      "9997        9998       9998     I243405  e8307ddf-9a01-4fff-bc59-4742e03fd24f   \n",
      "9998        9999       9999     I641617  3775ccfc-0052-4107-81ae-9657f81ecdf3   \n",
      "9999       10000      10000      T38070  9de5fb6e-bd33-4995-aec8-f01d0172a499   \n",
      "\n",
      "              City State                 County    Zip       Lat        Lng  \\\n",
      "0      Point Baker    AK  Prince of Wales-Hyder  99927  56.25100 -133.37571   \n",
      "1      West Branch    MI                 Ogemaw  48661  44.32893  -84.24080   \n",
      "2          Yamhill    OR                Yamhill  97148  45.35589 -123.24657   \n",
      "3          Del Mar    CA              San Diego  92014  32.96687 -117.24798   \n",
      "4        Needville    TX              Fort Bend  77461  29.38012  -95.80673   \n",
      "...            ...   ...                    ...    ...       ...        ...   \n",
      "9995   Mount Holly    VT                Rutland   5758  43.43391  -72.78734   \n",
      "9996   Clarksville    TN             Montgomery  37042  36.56907  -87.41694   \n",
      "9997      Mobeetie    TX                Wheeler  79061  35.52039 -100.44180   \n",
      "9998    Carrollton    GA                Carroll  30117  33.58016  -85.13241   \n",
      "9999  Clarkesville    GA              Habersham  30523  34.70783  -83.53648   \n",
      "\n",
      "      ...  MonthlyCharge Bandwidth_GB_Year item1 item2  item3  item4 item5  \\\n",
      "0     ...     171.449762        904.536110     5     5      5      3     4   \n",
      "1     ...     242.948015        800.982766     3     4      3      3     4   \n",
      "2     ...     159.440398       2054.706961     4     4      2      4     4   \n",
      "3     ...     120.249493       2164.579412     4     4      4      2     5   \n",
      "4     ...     150.761216        271.493436     4     4      4      3     4   \n",
      "...   ...            ...               ...   ...   ...    ...    ...   ...   \n",
      "9995  ...     159.828800       6511.253000     3     2      3      3     4   \n",
      "9996  ...     208.856400       5695.952000     4     5      5      4     4   \n",
      "9997  ...     168.220900       4159.306000     4     4      4      4     4   \n",
      "9998  ...     252.628600       6468.457000     4     4      6      4     3   \n",
      "9999  ...     218.371000       5857.586000     2     2      3      3     3   \n",
      "\n",
      "     item6  item7 item8  \n",
      "0        4      3     4  \n",
      "1        3      4     4  \n",
      "2        3      3     3  \n",
      "3        4      3     3  \n",
      "4        4      4     5  \n",
      "...    ...    ...   ...  \n",
      "9995     3      2     3  \n",
      "9996     5      2     5  \n",
      "9997     4      4     5  \n",
      "9998     3      5     4  \n",
      "9999     3      4     1  \n",
      "\n",
      "[10000 rows x 52 columns]\n"
     ]
    }
   ],
   "source": [
    "#Import the dataset into Pandas DataFrame and display it.\n",
    "df=pd.read_csv('D212_churn_raw_data.csv')\n",
    "print(df)"
   ]
  },
  {
   "cell_type": "code",
   "execution_count": 3,
   "id": "da742b4e",
   "metadata": {},
   "outputs": [
    {
     "name": "stdout",
     "output_type": "stream",
     "text": [
      "(10000, 52)\n"
     ]
    }
   ],
   "source": [
    "#List total number of entries in dataset (RowsxColumn).\n",
    "print(df.shape)"
   ]
  },
  {
   "cell_type": "code",
   "execution_count": 4,
   "id": "bd43e776",
   "metadata": {
    "scrolled": true
   },
   "outputs": [
    {
     "name": "stdout",
     "output_type": "stream",
     "text": [
      "Unnamed: 0                int64\n",
      "CaseOrder                 int64\n",
      "Customer_id              object\n",
      "Interaction              object\n",
      "City                     object\n",
      "State                    object\n",
      "County                   object\n",
      "Zip                       int64\n",
      "Lat                     float64\n",
      "Lng                     float64\n",
      "Population                int64\n",
      "Area                     object\n",
      "Timezone                 object\n",
      "Job                      object\n",
      "Children                float64\n",
      "Age                     float64\n",
      "Education                object\n",
      "Employment               object\n",
      "Income                  float64\n",
      "Marital                  object\n",
      "Gender                   object\n",
      "Churn                    object\n",
      "Outage_sec_perweek      float64\n",
      "Email                     int64\n",
      "Contacts                  int64\n",
      "Yearly_equip_failure      int64\n",
      "Techie                   object\n",
      "Contract                 object\n",
      "Port_modem               object\n",
      "Tablet                   object\n",
      "InternetService          object\n",
      "Phone                    object\n",
      "Multiple                 object\n",
      "OnlineSecurity           object\n",
      "OnlineBackup             object\n",
      "DeviceProtection         object\n",
      "TechSupport              object\n",
      "StreamingTV              object\n",
      "StreamingMovies          object\n",
      "PaperlessBilling         object\n",
      "PaymentMethod            object\n",
      "Tenure                  float64\n",
      "MonthlyCharge           float64\n",
      "Bandwidth_GB_Year       float64\n",
      "item1                     int64\n",
      "item2                     int64\n",
      "item3                     int64\n",
      "item4                     int64\n",
      "item5                     int64\n",
      "item6                     int64\n",
      "item7                     int64\n",
      "item8                     int64\n",
      "dtype: object\n"
     ]
    }
   ],
   "source": [
    "#Display the datatype for each column.\n",
    "print(df.dtypes)"
   ]
  },
  {
   "cell_type": "code",
   "execution_count": 5,
   "id": "a3dd2cac",
   "metadata": {
    "scrolled": true
   },
   "outputs": [
    {
     "name": "stdout",
     "output_type": "stream",
     "text": [
      "Unnamed: 0                 0\n",
      "CaseOrder                  0\n",
      "Customer_id                0\n",
      "Interaction                0\n",
      "City                       0\n",
      "State                      0\n",
      "County                     0\n",
      "Zip                        0\n",
      "Lat                        0\n",
      "Lng                        0\n",
      "Population                 0\n",
      "Area                       0\n",
      "Timezone                   0\n",
      "Job                        0\n",
      "Children                2495\n",
      "Age                     2475\n",
      "Education                  0\n",
      "Employment                 0\n",
      "Income                  2490\n",
      "Marital                    0\n",
      "Gender                     0\n",
      "Churn                      0\n",
      "Outage_sec_perweek         0\n",
      "Email                      0\n",
      "Contacts                   0\n",
      "Yearly_equip_failure       0\n",
      "Techie                  2477\n",
      "Contract                   0\n",
      "Port_modem                 0\n",
      "Tablet                     0\n",
      "InternetService            0\n",
      "Phone                   1026\n",
      "Multiple                   0\n",
      "OnlineSecurity             0\n",
      "OnlineBackup               0\n",
      "DeviceProtection           0\n",
      "TechSupport              991\n",
      "StreamingTV                0\n",
      "StreamingMovies            0\n",
      "PaperlessBilling           0\n",
      "PaymentMethod              0\n",
      "Tenure                   931\n",
      "MonthlyCharge              0\n",
      "Bandwidth_GB_Year       1021\n",
      "item1                      0\n",
      "item2                      0\n",
      "item3                      0\n",
      "item4                      0\n",
      "item5                      0\n",
      "item6                      0\n",
      "item7                      0\n",
      "item8                      0\n",
      "dtype: int64\n"
     ]
    }
   ],
   "source": [
    "#Perform checks to see if null values exists.\n",
    "print(df.isna().sum())"
   ]
  },
  {
   "cell_type": "code",
   "execution_count": 6,
   "id": "2f339a55",
   "metadata": {
    "scrolled": true
   },
   "outputs": [
    {
     "data": {
      "text/html": [
       "<div>\n",
       "<style scoped>\n",
       "    .dataframe tbody tr th:only-of-type {\n",
       "        vertical-align: middle;\n",
       "    }\n",
       "\n",
       "    .dataframe tbody tr th {\n",
       "        vertical-align: top;\n",
       "    }\n",
       "\n",
       "    .dataframe thead th {\n",
       "        text-align: right;\n",
       "    }\n",
       "</style>\n",
       "<table border=\"1\" class=\"dataframe\">\n",
       "  <thead>\n",
       "    <tr style=\"text-align: right;\">\n",
       "      <th></th>\n",
       "      <th>Unnamed: 0</th>\n",
       "      <th>CaseOrder</th>\n",
       "      <th>Zip</th>\n",
       "      <th>Lat</th>\n",
       "      <th>Lng</th>\n",
       "      <th>Population</th>\n",
       "      <th>Children</th>\n",
       "      <th>Age</th>\n",
       "      <th>Income</th>\n",
       "      <th>Outage_sec_perweek</th>\n",
       "      <th>...</th>\n",
       "      <th>MonthlyCharge</th>\n",
       "      <th>Bandwidth_GB_Year</th>\n",
       "      <th>item1</th>\n",
       "      <th>item2</th>\n",
       "      <th>item3</th>\n",
       "      <th>item4</th>\n",
       "      <th>item5</th>\n",
       "      <th>item6</th>\n",
       "      <th>item7</th>\n",
       "      <th>item8</th>\n",
       "    </tr>\n",
       "  </thead>\n",
       "  <tbody>\n",
       "    <tr>\n",
       "      <th>count</th>\n",
       "      <td>10000.00000</td>\n",
       "      <td>10000.00000</td>\n",
       "      <td>10000.000000</td>\n",
       "      <td>10000.000000</td>\n",
       "      <td>10000.000000</td>\n",
       "      <td>10000.000000</td>\n",
       "      <td>7505.000000</td>\n",
       "      <td>7525.000000</td>\n",
       "      <td>7510.000000</td>\n",
       "      <td>10000.000000</td>\n",
       "      <td>...</td>\n",
       "      <td>10000.000000</td>\n",
       "      <td>8979.000000</td>\n",
       "      <td>10000.000000</td>\n",
       "      <td>10000.000000</td>\n",
       "      <td>10000.000000</td>\n",
       "      <td>10000.000000</td>\n",
       "      <td>10000.000000</td>\n",
       "      <td>10000.000000</td>\n",
       "      <td>10000.000000</td>\n",
       "      <td>10000.000000</td>\n",
       "    </tr>\n",
       "    <tr>\n",
       "      <th>mean</th>\n",
       "      <td>5000.50000</td>\n",
       "      <td>5000.50000</td>\n",
       "      <td>49153.319600</td>\n",
       "      <td>38.757567</td>\n",
       "      <td>-90.782536</td>\n",
       "      <td>9756.562400</td>\n",
       "      <td>2.095936</td>\n",
       "      <td>53.275748</td>\n",
       "      <td>39936.762226</td>\n",
       "      <td>11.452955</td>\n",
       "      <td>...</td>\n",
       "      <td>174.076305</td>\n",
       "      <td>3398.842752</td>\n",
       "      <td>3.490800</td>\n",
       "      <td>3.505100</td>\n",
       "      <td>3.487000</td>\n",
       "      <td>3.497500</td>\n",
       "      <td>3.492900</td>\n",
       "      <td>3.497300</td>\n",
       "      <td>3.509500</td>\n",
       "      <td>3.495600</td>\n",
       "    </tr>\n",
       "    <tr>\n",
       "      <th>std</th>\n",
       "      <td>2886.89568</td>\n",
       "      <td>2886.89568</td>\n",
       "      <td>27532.196108</td>\n",
       "      <td>5.437389</td>\n",
       "      <td>15.156142</td>\n",
       "      <td>14432.698671</td>\n",
       "      <td>2.154758</td>\n",
       "      <td>20.753928</td>\n",
       "      <td>28358.469482</td>\n",
       "      <td>7.025921</td>\n",
       "      <td>...</td>\n",
       "      <td>43.335473</td>\n",
       "      <td>2187.396807</td>\n",
       "      <td>1.037797</td>\n",
       "      <td>1.034641</td>\n",
       "      <td>1.027977</td>\n",
       "      <td>1.025816</td>\n",
       "      <td>1.024819</td>\n",
       "      <td>1.033586</td>\n",
       "      <td>1.028502</td>\n",
       "      <td>1.028633</td>\n",
       "    </tr>\n",
       "    <tr>\n",
       "      <th>min</th>\n",
       "      <td>1.00000</td>\n",
       "      <td>1.00000</td>\n",
       "      <td>601.000000</td>\n",
       "      <td>17.966120</td>\n",
       "      <td>-171.688150</td>\n",
       "      <td>0.000000</td>\n",
       "      <td>0.000000</td>\n",
       "      <td>18.000000</td>\n",
       "      <td>740.660000</td>\n",
       "      <td>-1.348571</td>\n",
       "      <td>...</td>\n",
       "      <td>77.505230</td>\n",
       "      <td>155.506715</td>\n",
       "      <td>1.000000</td>\n",
       "      <td>1.000000</td>\n",
       "      <td>1.000000</td>\n",
       "      <td>1.000000</td>\n",
       "      <td>1.000000</td>\n",
       "      <td>1.000000</td>\n",
       "      <td>1.000000</td>\n",
       "      <td>1.000000</td>\n",
       "    </tr>\n",
       "    <tr>\n",
       "      <th>25%</th>\n",
       "      <td>2500.75000</td>\n",
       "      <td>2500.75000</td>\n",
       "      <td>26292.500000</td>\n",
       "      <td>35.341828</td>\n",
       "      <td>-97.082812</td>\n",
       "      <td>738.000000</td>\n",
       "      <td>0.000000</td>\n",
       "      <td>35.000000</td>\n",
       "      <td>19285.522500</td>\n",
       "      <td>8.054362</td>\n",
       "      <td>...</td>\n",
       "      <td>141.071078</td>\n",
       "      <td>1234.110529</td>\n",
       "      <td>3.000000</td>\n",
       "      <td>3.000000</td>\n",
       "      <td>3.000000</td>\n",
       "      <td>3.000000</td>\n",
       "      <td>3.000000</td>\n",
       "      <td>3.000000</td>\n",
       "      <td>3.000000</td>\n",
       "      <td>3.000000</td>\n",
       "    </tr>\n",
       "    <tr>\n",
       "      <th>50%</th>\n",
       "      <td>5000.50000</td>\n",
       "      <td>5000.50000</td>\n",
       "      <td>48869.500000</td>\n",
       "      <td>39.395800</td>\n",
       "      <td>-87.918800</td>\n",
       "      <td>2910.500000</td>\n",
       "      <td>1.000000</td>\n",
       "      <td>53.000000</td>\n",
       "      <td>33186.785000</td>\n",
       "      <td>10.202896</td>\n",
       "      <td>...</td>\n",
       "      <td>169.915400</td>\n",
       "      <td>3382.424000</td>\n",
       "      <td>3.000000</td>\n",
       "      <td>4.000000</td>\n",
       "      <td>3.000000</td>\n",
       "      <td>3.000000</td>\n",
       "      <td>3.000000</td>\n",
       "      <td>3.000000</td>\n",
       "      <td>4.000000</td>\n",
       "      <td>3.000000</td>\n",
       "    </tr>\n",
       "    <tr>\n",
       "      <th>75%</th>\n",
       "      <td>7500.25000</td>\n",
       "      <td>7500.25000</td>\n",
       "      <td>71866.500000</td>\n",
       "      <td>42.106908</td>\n",
       "      <td>-80.088745</td>\n",
       "      <td>13168.000000</td>\n",
       "      <td>3.000000</td>\n",
       "      <td>71.000000</td>\n",
       "      <td>53472.395000</td>\n",
       "      <td>12.487644</td>\n",
       "      <td>...</td>\n",
       "      <td>203.777441</td>\n",
       "      <td>5587.096500</td>\n",
       "      <td>4.000000</td>\n",
       "      <td>4.000000</td>\n",
       "      <td>4.000000</td>\n",
       "      <td>4.000000</td>\n",
       "      <td>4.000000</td>\n",
       "      <td>4.000000</td>\n",
       "      <td>4.000000</td>\n",
       "      <td>4.000000</td>\n",
       "    </tr>\n",
       "    <tr>\n",
       "      <th>max</th>\n",
       "      <td>10000.00000</td>\n",
       "      <td>10000.00000</td>\n",
       "      <td>99929.000000</td>\n",
       "      <td>70.640660</td>\n",
       "      <td>-65.667850</td>\n",
       "      <td>111850.000000</td>\n",
       "      <td>10.000000</td>\n",
       "      <td>89.000000</td>\n",
       "      <td>258900.700000</td>\n",
       "      <td>47.049280</td>\n",
       "      <td>...</td>\n",
       "      <td>315.878600</td>\n",
       "      <td>7158.982000</td>\n",
       "      <td>7.000000</td>\n",
       "      <td>7.000000</td>\n",
       "      <td>8.000000</td>\n",
       "      <td>7.000000</td>\n",
       "      <td>7.000000</td>\n",
       "      <td>8.000000</td>\n",
       "      <td>7.000000</td>\n",
       "      <td>8.000000</td>\n",
       "    </tr>\n",
       "  </tbody>\n",
       "</table>\n",
       "<p>8 rows × 24 columns</p>\n",
       "</div>"
      ],
      "text/plain": [
       "        Unnamed: 0    CaseOrder           Zip           Lat           Lng  \\\n",
       "count  10000.00000  10000.00000  10000.000000  10000.000000  10000.000000   \n",
       "mean    5000.50000   5000.50000  49153.319600     38.757567    -90.782536   \n",
       "std     2886.89568   2886.89568  27532.196108      5.437389     15.156142   \n",
       "min        1.00000      1.00000    601.000000     17.966120   -171.688150   \n",
       "25%     2500.75000   2500.75000  26292.500000     35.341828    -97.082812   \n",
       "50%     5000.50000   5000.50000  48869.500000     39.395800    -87.918800   \n",
       "75%     7500.25000   7500.25000  71866.500000     42.106908    -80.088745   \n",
       "max    10000.00000  10000.00000  99929.000000     70.640660    -65.667850   \n",
       "\n",
       "          Population     Children          Age         Income  \\\n",
       "count   10000.000000  7505.000000  7525.000000    7510.000000   \n",
       "mean     9756.562400     2.095936    53.275748   39936.762226   \n",
       "std     14432.698671     2.154758    20.753928   28358.469482   \n",
       "min         0.000000     0.000000    18.000000     740.660000   \n",
       "25%       738.000000     0.000000    35.000000   19285.522500   \n",
       "50%      2910.500000     1.000000    53.000000   33186.785000   \n",
       "75%     13168.000000     3.000000    71.000000   53472.395000   \n",
       "max    111850.000000    10.000000    89.000000  258900.700000   \n",
       "\n",
       "       Outage_sec_perweek  ...  MonthlyCharge  Bandwidth_GB_Year  \\\n",
       "count        10000.000000  ...   10000.000000        8979.000000   \n",
       "mean            11.452955  ...     174.076305        3398.842752   \n",
       "std              7.025921  ...      43.335473        2187.396807   \n",
       "min             -1.348571  ...      77.505230         155.506715   \n",
       "25%              8.054362  ...     141.071078        1234.110529   \n",
       "50%             10.202896  ...     169.915400        3382.424000   \n",
       "75%             12.487644  ...     203.777441        5587.096500   \n",
       "max             47.049280  ...     315.878600        7158.982000   \n",
       "\n",
       "              item1         item2         item3         item4         item5  \\\n",
       "count  10000.000000  10000.000000  10000.000000  10000.000000  10000.000000   \n",
       "mean       3.490800      3.505100      3.487000      3.497500      3.492900   \n",
       "std        1.037797      1.034641      1.027977      1.025816      1.024819   \n",
       "min        1.000000      1.000000      1.000000      1.000000      1.000000   \n",
       "25%        3.000000      3.000000      3.000000      3.000000      3.000000   \n",
       "50%        3.000000      4.000000      3.000000      3.000000      3.000000   \n",
       "75%        4.000000      4.000000      4.000000      4.000000      4.000000   \n",
       "max        7.000000      7.000000      8.000000      7.000000      7.000000   \n",
       "\n",
       "              item6         item7         item8  \n",
       "count  10000.000000  10000.000000  10000.000000  \n",
       "mean       3.497300      3.509500      3.495600  \n",
       "std        1.033586      1.028502      1.028633  \n",
       "min        1.000000      1.000000      1.000000  \n",
       "25%        3.000000      3.000000      3.000000  \n",
       "50%        3.000000      4.000000      3.000000  \n",
       "75%        4.000000      4.000000      4.000000  \n",
       "max        8.000000      7.000000      8.000000  \n",
       "\n",
       "[8 rows x 24 columns]"
      ]
     },
     "execution_count": 6,
     "metadata": {},
     "output_type": "execute_result"
    }
   ],
   "source": [
    "#Look at the basic statistics of the dataset.\n",
    "df.describe()"
   ]
  },
  {
   "cell_type": "code",
   "execution_count": 7,
   "id": "b8f77ff8",
   "metadata": {
    "scrolled": true
   },
   "outputs": [],
   "source": [
    "#Looking at the dataset's basic statistic, we can see that Unnamed Column and CaseOrder are copies of one another.\n",
    "#The dictionary also states that its to preserve the original order of the raw data so we should be safe to remove it.\n",
    "\n",
    "df=df.drop(df.columns[0], axis = 1);"
   ]
  },
  {
   "cell_type": "code",
   "execution_count": 8,
   "id": "0c325c80",
   "metadata": {
    "scrolled": true
   },
   "outputs": [],
   "source": [
    "#We then need to rename the columns named item1 item2, etc.\n",
    "df=df.rename({'item1' : 'Timely_Response',\n",
    "                    'item2' : 'Timely_Fixes',\n",
    "                    'item3' : 'Timely_Replacement',\n",
    "                    'item4' : 'Reliability',\n",
    "                    'item5' : 'Options',\n",
    "                    'item6' : 'Respectable_Response',\n",
    "                    'item7' : 'Courteous_Exchange',\n",
    "                    'item8' : 'Evidence_of_active_listening'}, axis='columns')"
   ]
  },
  {
   "cell_type": "code",
   "execution_count": 9,
   "id": "47841b34",
   "metadata": {},
   "outputs": [
    {
     "data": {
      "text/plain": [
       "array(['No', 'Yes'], dtype=object)"
      ]
     },
     "execution_count": 9,
     "metadata": {},
     "output_type": "execute_result"
    }
   ],
   "source": [
    "#Next we look at the unique string value from categorical columns that can be potentially recoded.\n",
    "#A potential variable is any variable that is: easily understood, easily describable and can be methodologically recoded.\n",
    "df['Churn'].unique()"
   ]
  },
  {
   "cell_type": "code",
   "execution_count": 10,
   "id": "710c90f5",
   "metadata": {},
   "outputs": [
    {
     "data": {
      "text/plain": [
       "array(['Urban', 'Suburban', 'Rural'], dtype=object)"
      ]
     },
     "execution_count": 10,
     "metadata": {},
     "output_type": "execute_result"
    }
   ],
   "source": [
    "df['Area'].unique()"
   ]
  },
  {
   "cell_type": "code",
   "execution_count": 11,
   "id": "8345dd72",
   "metadata": {},
   "outputs": [
    {
     "data": {
      "text/plain": [
       "array(['Widowed', 'Married', 'Separated', 'Never Married', 'Divorced'],\n",
       "      dtype=object)"
      ]
     },
     "execution_count": 11,
     "metadata": {},
     "output_type": "execute_result"
    }
   ],
   "source": [
    "df['Marital'].unique()"
   ]
  },
  {
   "cell_type": "code",
   "execution_count": 12,
   "id": "9321f1a3",
   "metadata": {
    "scrolled": true
   },
   "outputs": [
    {
     "data": {
      "text/plain": [
       "array([\"Master's Degree\", 'Regular High School Diploma',\n",
       "       'Doctorate Degree', 'No Schooling Completed', \"Associate's Degree\",\n",
       "       \"Bachelor's Degree\", 'Some College, Less than 1 Year',\n",
       "       'GED or Alternative Credential',\n",
       "       'Some College, 1 or More Years, No Degree',\n",
       "       '9th Grade to 12th Grade, No Diploma',\n",
       "       'Nursery School to 8th Grade', 'Professional School Degree'],\n",
       "      dtype=object)"
      ]
     },
     "execution_count": 12,
     "metadata": {},
     "output_type": "execute_result"
    }
   ],
   "source": [
    "df['Education'].unique()"
   ]
  },
  {
   "cell_type": "code",
   "execution_count": 13,
   "id": "705d89eb",
   "metadata": {
    "scrolled": true
   },
   "outputs": [
    {
     "data": {
      "text/plain": [
       "array(['Part Time', 'Retired', 'Student', 'Full Time', 'Unemployed'],\n",
       "      dtype=object)"
      ]
     },
     "execution_count": 13,
     "metadata": {},
     "output_type": "execute_result"
    }
   ],
   "source": [
    "df['Employment'].unique()"
   ]
  },
  {
   "cell_type": "code",
   "execution_count": 14,
   "id": "044e3339",
   "metadata": {},
   "outputs": [
    {
     "data": {
      "text/plain": [
       "array(['Male', 'Female', 'Prefer not to answer'], dtype=object)"
      ]
     },
     "execution_count": 14,
     "metadata": {},
     "output_type": "execute_result"
    }
   ],
   "source": [
    "df['Gender'].unique()"
   ]
  },
  {
   "cell_type": "code",
   "execution_count": 15,
   "id": "3a894d09",
   "metadata": {},
   "outputs": [
    {
     "data": {
      "text/plain": [
       "array(['No', 'Yes', nan], dtype=object)"
      ]
     },
     "execution_count": 15,
     "metadata": {},
     "output_type": "execute_result"
    }
   ],
   "source": [
    "df['Techie'].unique()"
   ]
  },
  {
   "cell_type": "code",
   "execution_count": 16,
   "id": "1245db77",
   "metadata": {},
   "outputs": [
    {
     "data": {
      "text/plain": [
       "array(['One year', 'Month-to-month', 'Two Year'], dtype=object)"
      ]
     },
     "execution_count": 16,
     "metadata": {},
     "output_type": "execute_result"
    }
   ],
   "source": [
    "df['Contract'].unique()"
   ]
  },
  {
   "cell_type": "code",
   "execution_count": 17,
   "id": "048534b5",
   "metadata": {},
   "outputs": [
    {
     "data": {
      "text/plain": [
       "array(['Yes', 'No'], dtype=object)"
      ]
     },
     "execution_count": 17,
     "metadata": {},
     "output_type": "execute_result"
    }
   ],
   "source": [
    "df['Port_modem'].unique()"
   ]
  },
  {
   "cell_type": "code",
   "execution_count": 18,
   "id": "4de6ec78",
   "metadata": {},
   "outputs": [
    {
     "data": {
      "text/plain": [
       "array(['Yes', 'No'], dtype=object)"
      ]
     },
     "execution_count": 18,
     "metadata": {},
     "output_type": "execute_result"
    }
   ],
   "source": [
    "df['Tablet'].unique()"
   ]
  },
  {
   "cell_type": "code",
   "execution_count": 19,
   "id": "269232c9",
   "metadata": {},
   "outputs": [
    {
     "data": {
      "text/plain": [
       "array(['Fiber Optic', 'DSL', 'None'], dtype=object)"
      ]
     },
     "execution_count": 19,
     "metadata": {},
     "output_type": "execute_result"
    }
   ],
   "source": [
    "df['InternetService'].unique()"
   ]
  },
  {
   "cell_type": "code",
   "execution_count": 20,
   "id": "368c2c78",
   "metadata": {},
   "outputs": [
    {
     "data": {
      "text/plain": [
       "array(['Yes', 'No', nan], dtype=object)"
      ]
     },
     "execution_count": 20,
     "metadata": {},
     "output_type": "execute_result"
    }
   ],
   "source": [
    "df['Phone'].unique()"
   ]
  },
  {
   "cell_type": "code",
   "execution_count": 21,
   "id": "db748797",
   "metadata": {},
   "outputs": [
    {
     "data": {
      "text/plain": [
       "array(['No', 'Yes'], dtype=object)"
      ]
     },
     "execution_count": 21,
     "metadata": {},
     "output_type": "execute_result"
    }
   ],
   "source": [
    "df['Multiple'].unique()"
   ]
  },
  {
   "cell_type": "code",
   "execution_count": 22,
   "id": "03b20a25",
   "metadata": {},
   "outputs": [
    {
     "data": {
      "text/plain": [
       "array(['Yes', 'No'], dtype=object)"
      ]
     },
     "execution_count": 22,
     "metadata": {},
     "output_type": "execute_result"
    }
   ],
   "source": [
    "df['OnlineSecurity'].unique()"
   ]
  },
  {
   "cell_type": "code",
   "execution_count": 23,
   "id": "be949ffd",
   "metadata": {},
   "outputs": [
    {
     "data": {
      "text/plain": [
       "array(['Yes', 'No'], dtype=object)"
      ]
     },
     "execution_count": 23,
     "metadata": {},
     "output_type": "execute_result"
    }
   ],
   "source": [
    "df['OnlineBackup'].unique()"
   ]
  },
  {
   "cell_type": "code",
   "execution_count": 24,
   "id": "a9483afc",
   "metadata": {},
   "outputs": [
    {
     "data": {
      "text/plain": [
       "array(['No', 'Yes'], dtype=object)"
      ]
     },
     "execution_count": 24,
     "metadata": {},
     "output_type": "execute_result"
    }
   ],
   "source": [
    "df['DeviceProtection'].unique()"
   ]
  },
  {
   "cell_type": "code",
   "execution_count": 25,
   "id": "5d2c2cfb",
   "metadata": {},
   "outputs": [
    {
     "data": {
      "text/plain": [
       "array(['No', 'Yes', nan], dtype=object)"
      ]
     },
     "execution_count": 25,
     "metadata": {},
     "output_type": "execute_result"
    }
   ],
   "source": [
    "df['TechSupport'].unique()"
   ]
  },
  {
   "cell_type": "code",
   "execution_count": 26,
   "id": "e10e67a5",
   "metadata": {},
   "outputs": [
    {
     "data": {
      "text/plain": [
       "array(['No', 'Yes'], dtype=object)"
      ]
     },
     "execution_count": 26,
     "metadata": {},
     "output_type": "execute_result"
    }
   ],
   "source": [
    "df['StreamingTV'].unique()"
   ]
  },
  {
   "cell_type": "code",
   "execution_count": 27,
   "id": "786c656c",
   "metadata": {},
   "outputs": [
    {
     "data": {
      "text/plain": [
       "array(['Yes', 'No'], dtype=object)"
      ]
     },
     "execution_count": 27,
     "metadata": {},
     "output_type": "execute_result"
    }
   ],
   "source": [
    "df['PaperlessBilling'].unique()"
   ]
  },
  {
   "cell_type": "code",
   "execution_count": 28,
   "id": "d3228f2a",
   "metadata": {
    "scrolled": false
   },
   "outputs": [
    {
     "data": {
      "text/plain": [
       "array(['Credit Card (automatic)', 'Bank Transfer(automatic)',\n",
       "       'Mailed Check', 'Electronic Check'], dtype=object)"
      ]
     },
     "execution_count": 28,
     "metadata": {},
     "output_type": "execute_result"
    }
   ],
   "source": [
    "df['PaymentMethod'].unique()"
   ]
  },
  {
   "cell_type": "code",
   "execution_count": 29,
   "id": "e365621c",
   "metadata": {},
   "outputs": [
    {
     "data": {
      "text/plain": [
       "array([171.4497621, 242.9480155, 159.4403984, ..., 168.2209   ,\n",
       "       252.6286   , 218.371    ])"
      ]
     },
     "execution_count": 29,
     "metadata": {},
     "output_type": "execute_result"
    }
   ],
   "source": [
    "df['MonthlyCharge'].unique()"
   ]
  },
  {
   "cell_type": "code",
   "execution_count": 30,
   "id": "b0791436",
   "metadata": {},
   "outputs": [],
   "source": [
    "#Once we know the unique values for the categorical columns we want to change,\n",
    "#we'll perform the necessary codes on them. First we'll change all binary values and the 'InternetService'\n",
    "#column to 1 or 0. \n",
    "#We'll also fill NaN value for column 'TechSupport','Techie', 'Phone' with 0 as we will assume that these\n",
    "#value were left empty as they did not apply to the customer.\n",
    "\n",
    "df=df.replace(['Yes','Fiber Optic', 'DSL'],'1');\n",
    "df=df.replace(['No', 'None'],'0');\n",
    "df[['TechSupport', 'Techie', 'Phone']] = df[['TechSupport', 'Techie', 'Phone']].fillna(value=0);\n",
    "df=df.astype({'Churn': 'float64', \n",
    "              'Port_modem': 'float64', \n",
    "              'Tablet': 'float64', \n",
    "              'InternetService': 'float64', \n",
    "              'Phone': 'float64',\n",
    "              'Multiple': 'float64',\n",
    "              'OnlineSecurity': 'float64',\n",
    "              'OnlineBackup': 'float64',\n",
    "              'DeviceProtection': 'float64',\n",
    "              'TechSupport': 'float64',\n",
    "              'StreamingTV': 'float64',\n",
    "              'PaperlessBilling': 'float64',\n",
    "              'StreamingMovies': 'float64',\n",
    "              'Techie': 'float64'})\n"
   ]
  },
  {
   "cell_type": "code",
   "execution_count": 31,
   "id": "41698d82",
   "metadata": {},
   "outputs": [
    {
     "name": "stdout",
     "output_type": "stream",
     "text": [
      "0       10.0\n",
      "1        4.0\n",
      "2        4.0\n",
      "3       11.0\n",
      "4       10.0\n",
      "        ... \n",
      "9995     5.0\n",
      "9996     4.0\n",
      "9997     1.0\n",
      "9998     9.0\n",
      "9999     3.0\n",
      "Name: Education, Length: 10000, dtype: float64\n"
     ]
    }
   ],
   "source": [
    "#Recode Education with 'Doctorate Degree' from 11 to 'No Schooling Completed' at 0. Also convert datatype to float.\n",
    "df=df.replace(['Doctorate Degree'] ,'11');\n",
    "df=df.replace([\"Master's Degree\"],'10');\n",
    "df=df.replace([\"Bachelor's Degree\"],'9');\n",
    "df=df.replace([\"Associate's Degree\"] ,'8');\n",
    "df=df.replace(['Professional School Degree'],'7');\n",
    "df=df.replace(['Some College, 1 or More Years, No Degree'],'6');\n",
    "df=df.replace(['Some College, Less than 1 Year'] ,'5');\n",
    "df=df.replace(['Regular High School Diploma'],'4');\n",
    "df=df.replace(['GED or Alternative Credential'],'3');\n",
    "df=df.replace(['9th Grade to 12th Grade, No Diploma'] ,'2');\n",
    "df=df.replace(['Nursery School to 8th Grade'],'1');\n",
    "df=df.replace(['No Schooling Completed'],'0');\n",
    "df=df.astype({'Education': 'float64'})\n",
    "print(df['Education'])"
   ]
  },
  {
   "cell_type": "code",
   "execution_count": 32,
   "id": "9dacf916",
   "metadata": {},
   "outputs": [
    {
     "name": "stdout",
     "output_type": "stream",
     "text": [
      "0       1.0\n",
      "1       4.0\n",
      "2       1.0\n",
      "3       4.0\n",
      "4       3.0\n",
      "       ... \n",
      "9995    4.0\n",
      "9996    2.0\n",
      "9997    0.0\n",
      "9998    3.0\n",
      "9999    0.0\n",
      "Name: Marital, Length: 10000, dtype: float64\n"
     ]
    }
   ],
   "source": [
    "#Recode Marital column 'Married' from 4 to 'Never Married' at 0. Also convert datatype to float.\n",
    "\n",
    "df=df.replace(['Married'] ,'4');\n",
    "df=df.replace(['Separated'] ,'3');\n",
    "df=df.replace(['Divorced'] ,'2');\n",
    "df=df.replace(['Widowed'],'1');\n",
    "df=df.replace(['Never Married'],'0');\n",
    "df=df.astype({'Marital': 'float64'})\n",
    "print(df['Marital'])"
   ]
  },
  {
   "cell_type": "code",
   "execution_count": 33,
   "id": "39b9741e",
   "metadata": {
    "scrolled": false
   },
   "outputs": [
    {
     "name": "stdout",
     "output_type": "stream",
     "text": [
      "0       2.0\n",
      "1       3.0\n",
      "2       2.0\n",
      "3       0.0\n",
      "4       0.0\n",
      "       ... \n",
      "9995    1.0\n",
      "9996    1.0\n",
      "9997    3.0\n",
      "9998    2.0\n",
      "9999    1.0\n",
      "Name: PaymentMethod, Length: 10000, dtype: float64\n"
     ]
    }
   ],
   "source": [
    "#Recode PaymentMethod with 'Bank Transfer(automatic)'=3, Credit Card'=2, 'Electronic Check'=1, 'Mailed Check'=0.\n",
    "#Also convert datatype to float.\n",
    "\n",
    "df=df.replace([\"Bank Transfer(automatic)\"] ,'3');\n",
    "df=df.replace([\"Credit Card (automatic)\"],'2');\n",
    "df=df.replace(['Electronic Check'],'1');\n",
    "df=df.replace(['Mailed Check'],'0');\n",
    "df=df.astype({'PaymentMethod': 'float64'})\n",
    "print(df['PaymentMethod'])"
   ]
  },
  {
   "cell_type": "code",
   "execution_count": 34,
   "id": "d124b500",
   "metadata": {},
   "outputs": [
    {
     "name": "stdout",
     "output_type": "stream",
     "text": [
      "0       2.0\n",
      "1       1.0\n",
      "2       1.0\n",
      "3       2.0\n",
      "4       2.0\n",
      "       ... \n",
      "9995    2.0\n",
      "9996    2.0\n",
      "9997    1.0\n",
      "9998    2.0\n",
      "9999    2.0\n",
      "Name: Gender, Length: 10000, dtype: float64\n"
     ]
    }
   ],
   "source": [
    "#Recode Gender with 'Male'=2, 'Female'=1, 'Prefer Not to Answer'=0. Also convert datatype to float.\n",
    "df=df.replace(['Male'] ,'2');\n",
    "df=df.replace(['Female'],'1');\n",
    "df=df.replace(['Prefer not to answer'],'0');\n",
    "df=df.astype({'Gender': 'float64'})\n",
    "print(df['Gender'])"
   ]
  },
  {
   "cell_type": "code",
   "execution_count": 35,
   "id": "fe10c76c",
   "metadata": {
    "scrolled": false
   },
   "outputs": [
    {
     "name": "stdout",
     "output_type": "stream",
     "text": [
      "          Children          Age         Income       Tenure  Bandwidth_GB_Year\n",
      "count  7505.000000  7525.000000    7510.000000  9069.000000        8979.000000\n",
      "mean      2.095936    53.275748   39936.762226    34.498858        3398.842752\n",
      "std       2.154758    20.753928   28358.469482    26.438904        2187.396807\n",
      "min       0.000000    18.000000     740.660000     1.000259         155.506715\n",
      "25%       0.000000    35.000000   19285.522500     7.890442        1234.110529\n",
      "50%       1.000000    53.000000   33186.785000    36.196030        3382.424000\n",
      "75%       3.000000    71.000000   53472.395000    61.426670        5587.096500\n",
      "max      10.000000    89.000000  258900.700000    71.999280        7158.982000\n"
     ]
    }
   ],
   "source": [
    "#Now that we've recoded a majority of the relevant variable for our analysis, we need to decide what values\n",
    "#to use for imputation.\n",
    "print(df[['Children', 'Age', 'Income', 'Tenure', 'Bandwidth_GB_Year']].describe())"
   ]
  },
  {
   "cell_type": "code",
   "execution_count": 36,
   "id": "5d3af962",
   "metadata": {
    "scrolled": true
   },
   "outputs": [
    {
     "name": "stdout",
     "output_type": "stream",
     "text": [
      "CaseOrder                       0\n",
      "Customer_id                     0\n",
      "Interaction                     0\n",
      "City                            0\n",
      "State                           0\n",
      "County                          0\n",
      "Zip                             0\n",
      "Lat                             0\n",
      "Lng                             0\n",
      "Population                      0\n",
      "Area                            0\n",
      "Timezone                        0\n",
      "Job                             0\n",
      "Children                        0\n",
      "Age                             0\n",
      "Education                       0\n",
      "Employment                      0\n",
      "Income                          0\n",
      "Marital                         0\n",
      "Gender                          0\n",
      "Churn                           0\n",
      "Outage_sec_perweek              0\n",
      "Email                           0\n",
      "Contacts                        0\n",
      "Yearly_equip_failure            0\n",
      "Techie                          0\n",
      "Contract                        0\n",
      "Port_modem                      0\n",
      "Tablet                          0\n",
      "InternetService                 0\n",
      "Phone                           0\n",
      "Multiple                        0\n",
      "OnlineSecurity                  0\n",
      "OnlineBackup                    0\n",
      "DeviceProtection                0\n",
      "TechSupport                     0\n",
      "StreamingTV                     0\n",
      "StreamingMovies                 0\n",
      "PaperlessBilling                0\n",
      "PaymentMethod                   0\n",
      "Tenure                          0\n",
      "MonthlyCharge                   0\n",
      "Bandwidth_GB_Year               0\n",
      "Timely_Response                 0\n",
      "Timely_Fixes                    0\n",
      "Timely_Replacement              0\n",
      "Reliability                     0\n",
      "Options                         0\n",
      "Respectable_Response            0\n",
      "Courteous_Exchange              0\n",
      "Evidence_of_active_listening    0\n",
      "dtype: int64\n"
     ]
    }
   ],
   "source": [
    "#Impute missing values for 'Children', 'Age', 'Income', 'Tenure', 'Bandwidth_GB_Year' with median or mean values.\n",
    "#Print to see if there is still in any null values.\n",
    "df['Children'] = df['Children'].fillna(df['Children'].median())\n",
    "df['Age'] = df['Age'].fillna(df['Age'].median())\n",
    "df['Income'] = df['Income'].fillna(df['Income'].mean())\n",
    "df['Tenure'] = df['Tenure'].fillna(df['Tenure'].mean())\n",
    "df['Bandwidth_GB_Year'] = df['Bandwidth_GB_Year'].fillna(df['Bandwidth_GB_Year'].mean())\n",
    "\n",
    "print(df.isna().sum())"
   ]
  },
  {
   "cell_type": "code",
   "execution_count": 37,
   "id": "4fc155e7",
   "metadata": {
    "scrolled": true
   },
   "outputs": [
    {
     "name": "stdout",
     "output_type": "stream",
     "text": [
      "0       False\n",
      "1       False\n",
      "2       False\n",
      "3       False\n",
      "4       False\n",
      "        ...  \n",
      "9995    False\n",
      "9996    False\n",
      "9997    False\n",
      "9998    False\n",
      "9999    False\n",
      "Length: 10000, dtype: bool\n"
     ]
    }
   ],
   "source": [
    "#Find duplicate rows.\n",
    "print(df.duplicated())"
   ]
  },
  {
   "cell_type": "code",
   "execution_count": 38,
   "id": "b2c9f2a3",
   "metadata": {
    "scrolled": true
   },
   "outputs": [
    {
     "name": "stdout",
     "output_type": "stream",
     "text": [
      "773\n"
     ]
    }
   ],
   "source": [
    "#Looking at the dataset we can see that the 'Zip' column has alot of incomplete values. \n",
    "#Using this code, we can see how many rows have incomplete data.\n",
    "df['Zip'] = df['Zip'].apply(str)\n",
    "num_row=df['Zip'].str.len()\n",
    "print(len(num_row[(num_row<5)]))"
   ]
  },
  {
   "cell_type": "code",
   "execution_count": 39,
   "id": "50282dbf",
   "metadata": {
    "scrolled": true
   },
   "outputs": [
    {
     "name": "stdout",
     "output_type": "stream",
     "text": [
      "      CaseOrder Customer_id                           Interaction  \\\n",
      "0             1     K409198  aa90260b-4141-4a24-8e36-b04ce1f4f77b   \n",
      "1             2     S120509  fb76459f-c047-4a9d-8af9-e0f7d4ac2524   \n",
      "2             3     K191035  344d114c-3736-4be5-98f7-c72c281e2d35   \n",
      "3             4      D90850  abfa2b40-2d43-4994-b15a-989b8c79e311   \n",
      "4             5     K662701  68a861fd-0d20-4e51-a587-8a90407ee574   \n",
      "...         ...         ...                                   ...   \n",
      "9995       9996     M324793  45deb5a2-ae04-4518-bf0b-c82db8dbe4a4   \n",
      "9996       9997     D861732  6e96b921-0c09-4993-bbda-a1ac6411061a   \n",
      "9997       9998     I243405  e8307ddf-9a01-4fff-bc59-4742e03fd24f   \n",
      "9998       9999     I641617  3775ccfc-0052-4107-81ae-9657f81ecdf3   \n",
      "9999      10000      T38070  9de5fb6e-bd33-4995-aec8-f01d0172a499   \n",
      "\n",
      "              City State                 County       Lat        Lng  \\\n",
      "0      Point Baker    AK  Prince of Wales-Hyder  56.25100 -133.37571   \n",
      "1      West Branch    MI                 Ogemaw  44.32893  -84.24080   \n",
      "2          Yamhill    OR                Yamhill  45.35589 -123.24657   \n",
      "3          Del Mar    CA              San Diego  32.96687 -117.24798   \n",
      "4        Needville    TX              Fort Bend  29.38012  -95.80673   \n",
      "...            ...   ...                    ...       ...        ...   \n",
      "9995   Mount Holly    VT                Rutland  43.43391  -72.78734   \n",
      "9996   Clarksville    TN             Montgomery  36.56907  -87.41694   \n",
      "9997      Mobeetie    TX                Wheeler  35.52039 -100.44180   \n",
      "9998    Carrollton    GA                Carroll  33.58016  -85.13241   \n",
      "9999  Clarkesville    GA              Habersham  34.70783  -83.53648   \n",
      "\n",
      "      Population      Area  ... MonthlyCharge Bandwidth_GB_Year  \\\n",
      "0             38     Urban  ...    171.449762        904.536110   \n",
      "1          10446     Urban  ...    242.948015        800.982766   \n",
      "2           3735     Urban  ...    159.440398       2054.706961   \n",
      "3          13863  Suburban  ...    120.249493       2164.579412   \n",
      "4          11352  Suburban  ...    150.761216        271.493436   \n",
      "...          ...       ...  ...           ...               ...   \n",
      "9995         640     Rural  ...    159.828800       6511.253000   \n",
      "9996       77168     Rural  ...    208.856400       5695.952000   \n",
      "9997         406     Rural  ...    168.220900       4159.306000   \n",
      "9998       35575     Urban  ...    252.628600       6468.457000   \n",
      "9999       12230     Urban  ...    218.371000       5857.586000   \n",
      "\n",
      "      Timely_Response  Timely_Fixes  Timely_Replacement Reliability  Options  \\\n",
      "0                   5             5                   5           3        4   \n",
      "1                   3             4                   3           3        4   \n",
      "2                   4             4                   2           4        4   \n",
      "3                   4             4                   4           2        5   \n",
      "4                   4             4                   4           3        4   \n",
      "...               ...           ...                 ...         ...      ...   \n",
      "9995                3             2                   3           3        4   \n",
      "9996                4             5                   5           4        4   \n",
      "9997                4             4                   4           4        4   \n",
      "9998                4             4                   6           4        3   \n",
      "9999                2             2                   3           3        3   \n",
      "\n",
      "      Respectable_Response  Courteous_Exchange  Evidence_of_active_listening  \n",
      "0                        4                   3                             4  \n",
      "1                        3                   4                             4  \n",
      "2                        3                   3                             3  \n",
      "3                        4                   3                             3  \n",
      "4                        4                   4                             5  \n",
      "...                    ...                 ...                           ...  \n",
      "9995                     3                   2                             3  \n",
      "9996                     5                   2                             5  \n",
      "9997                     4                   4                             5  \n",
      "9998                     3                   5                             4  \n",
      "9999                     3                   4                             1  \n",
      "\n",
      "[10000 rows x 50 columns]\n"
     ]
    }
   ],
   "source": [
    "#Drop the Zip Column due to a large number of incomplete data.\n",
    "df = df.drop('Zip',axis=1)\n",
    "print(df)"
   ]
  },
  {
   "cell_type": "code",
   "execution_count": 40,
   "id": "3d0612e9",
   "metadata": {},
   "outputs": [
    {
     "name": "stdout",
     "output_type": "stream",
     "text": [
      "0       5.0\n",
      "1       6.0\n",
      "2       4.0\n",
      "3       4.0\n",
      "4       3.0\n",
      "       ... \n",
      "9995    4.0\n",
      "9996    6.0\n",
      "9997    5.0\n",
      "9998    5.0\n",
      "9999    7.0\n",
      "Name: Sum_services, Length: 10000, dtype: float64\n"
     ]
    }
   ],
   "source": [
    "#Add up all the rows in each Service Column into a new Column called 'Sum_services'.\n",
    "\n",
    "df['Sum_services'] = df['InternetService'] + df['Phone'] + df['Multiple'] + \\\n",
    "df['OnlineSecurity'] +df['OnlineBackup'] + df['DeviceProtection'] +df['TechSupport'] +\\\n",
    "df['StreamingTV'] + df['StreamingMovies']\n",
    "\n",
    "print(df['Sum_services'])"
   ]
  },
  {
   "cell_type": "code",
   "execution_count": 41,
   "id": "0f87cb31",
   "metadata": {},
   "outputs": [
    {
     "data": {
      "text/plain": [
       "count    10000.000000\n",
       "mean         4.626800\n",
       "std          1.423982\n",
       "min          0.000000\n",
       "25%          4.000000\n",
       "50%          5.000000\n",
       "75%          6.000000\n",
       "max          9.000000\n",
       "Name: Sum_services, dtype: float64"
      ]
     },
     "execution_count": 41,
     "metadata": {},
     "output_type": "execute_result"
    }
   ],
   "source": [
    "#Look at central tendency values of new column.\n",
    "df['Sum_services'].describe()"
   ]
  },
  {
   "cell_type": "code",
   "execution_count": 42,
   "id": "1d14221f",
   "metadata": {},
   "outputs": [
    {
     "name": "stdout",
     "output_type": "stream",
     "text": [
      "(array([  75,  798, 1430, 2275, 3425, 3770, 4055, 4489, 4676, 4927, 5257,\n",
      "       5592, 6507, 6878, 7529, 7696, 9734], dtype=int64),)\n"
     ]
    }
   ],
   "source": [
    "#Create Z-Score of 'Sum_services' and put it into 'Z_ScoreServices' column and new variable df_z. Print Z-Score higher than 3.\n",
    "df['Z_ScoreServices']=stats.zscore(df['Sum_services'])\n",
    "df_z=df['Z_ScoreServices']\n",
    "print(np.where(df_z > 3))"
   ]
  },
  {
   "cell_type": "code",
   "execution_count": 43,
   "id": "d88e2599",
   "metadata": {},
   "outputs": [
    {
     "name": "stdout",
     "output_type": "stream",
     "text": [
      "3.0712599571175825\n"
     ]
    }
   ],
   "source": [
    "#Confirm that column 'Z_ScoreServices' in position 75 is over 3.\n",
    "print (df_z.iloc[75])"
   ]
  },
  {
   "cell_type": "code",
   "execution_count": 44,
   "id": "11630297",
   "metadata": {},
   "outputs": [
    {
     "name": "stdout",
     "output_type": "stream",
     "text": [
      "-0.4401961358093162\n"
     ]
    }
   ],
   "source": [
    "#Declare new variable df_cln to remove rows with Z-Score higher 3 and lower than -3. Print to ensure removal.\n",
    "df_cln = df\n",
    "df_cln = df_cln[(df_z < 3) & (df_z > -3)]\n",
    "\n",
    "print (df_cln['Z_ScoreServices'].iloc[75])\n"
   ]
  },
  {
   "cell_type": "code",
   "execution_count": 45,
   "id": "a9d25998",
   "metadata": {},
   "outputs": [
    {
     "data": {
      "text/html": [
       "<div>\n",
       "<style scoped>\n",
       "    .dataframe tbody tr th:only-of-type {\n",
       "        vertical-align: middle;\n",
       "    }\n",
       "\n",
       "    .dataframe tbody tr th {\n",
       "        vertical-align: top;\n",
       "    }\n",
       "\n",
       "    .dataframe thead th {\n",
       "        text-align: right;\n",
       "    }\n",
       "</style>\n",
       "<table border=\"1\" class=\"dataframe\">\n",
       "  <thead>\n",
       "    <tr style=\"text-align: right;\">\n",
       "      <th></th>\n",
       "      <th>Area</th>\n",
       "      <th>Children</th>\n",
       "      <th>Age</th>\n",
       "      <th>Employment</th>\n",
       "      <th>Income</th>\n",
       "      <th>Churn</th>\n",
       "      <th>Outage_sec_perweek</th>\n",
       "      <th>Yearly_equip_failure</th>\n",
       "      <th>Contract</th>\n",
       "      <th>MonthlyCharge</th>\n",
       "      <th>Bandwidth_GB_Year</th>\n",
       "      <th>Timely_Response</th>\n",
       "      <th>Timely_Fixes</th>\n",
       "      <th>Timely_Replacement</th>\n",
       "      <th>Reliability</th>\n",
       "      <th>Options</th>\n",
       "      <th>Respectable_Response</th>\n",
       "      <th>Courteous_Exchange</th>\n",
       "      <th>Evidence_of_active_listening</th>\n",
       "      <th>Sum_services</th>\n",
       "    </tr>\n",
       "  </thead>\n",
       "  <tbody>\n",
       "    <tr>\n",
       "      <th>0</th>\n",
       "      <td>Urban</td>\n",
       "      <td>1.0</td>\n",
       "      <td>68.0</td>\n",
       "      <td>Part Time</td>\n",
       "      <td>28561.990000</td>\n",
       "      <td>0.0</td>\n",
       "      <td>6.972566</td>\n",
       "      <td>1</td>\n",
       "      <td>One year</td>\n",
       "      <td>171.449762</td>\n",
       "      <td>904.536110</td>\n",
       "      <td>5</td>\n",
       "      <td>5</td>\n",
       "      <td>5</td>\n",
       "      <td>3</td>\n",
       "      <td>4</td>\n",
       "      <td>4</td>\n",
       "      <td>3</td>\n",
       "      <td>4</td>\n",
       "      <td>5.0</td>\n",
       "    </tr>\n",
       "    <tr>\n",
       "      <th>1</th>\n",
       "      <td>Urban</td>\n",
       "      <td>1.0</td>\n",
       "      <td>27.0</td>\n",
       "      <td>Retired</td>\n",
       "      <td>21704.770000</td>\n",
       "      <td>1.0</td>\n",
       "      <td>12.014541</td>\n",
       "      <td>1</td>\n",
       "      <td>Month-to-month</td>\n",
       "      <td>242.948015</td>\n",
       "      <td>800.982766</td>\n",
       "      <td>3</td>\n",
       "      <td>4</td>\n",
       "      <td>3</td>\n",
       "      <td>3</td>\n",
       "      <td>4</td>\n",
       "      <td>3</td>\n",
       "      <td>4</td>\n",
       "      <td>4</td>\n",
       "      <td>6.0</td>\n",
       "    </tr>\n",
       "    <tr>\n",
       "      <th>2</th>\n",
       "      <td>Urban</td>\n",
       "      <td>4.0</td>\n",
       "      <td>50.0</td>\n",
       "      <td>Student</td>\n",
       "      <td>39936.762226</td>\n",
       "      <td>0.0</td>\n",
       "      <td>10.245616</td>\n",
       "      <td>1</td>\n",
       "      <td>Two Year</td>\n",
       "      <td>159.440398</td>\n",
       "      <td>2054.706961</td>\n",
       "      <td>4</td>\n",
       "      <td>4</td>\n",
       "      <td>2</td>\n",
       "      <td>4</td>\n",
       "      <td>4</td>\n",
       "      <td>3</td>\n",
       "      <td>3</td>\n",
       "      <td>3</td>\n",
       "      <td>4.0</td>\n",
       "    </tr>\n",
       "    <tr>\n",
       "      <th>3</th>\n",
       "      <td>Suburban</td>\n",
       "      <td>1.0</td>\n",
       "      <td>48.0</td>\n",
       "      <td>Retired</td>\n",
       "      <td>18925.230000</td>\n",
       "      <td>0.0</td>\n",
       "      <td>15.206193</td>\n",
       "      <td>0</td>\n",
       "      <td>Two Year</td>\n",
       "      <td>120.249493</td>\n",
       "      <td>2164.579412</td>\n",
       "      <td>4</td>\n",
       "      <td>4</td>\n",
       "      <td>4</td>\n",
       "      <td>2</td>\n",
       "      <td>5</td>\n",
       "      <td>4</td>\n",
       "      <td>3</td>\n",
       "      <td>3</td>\n",
       "      <td>4.0</td>\n",
       "    </tr>\n",
       "    <tr>\n",
       "      <th>4</th>\n",
       "      <td>Suburban</td>\n",
       "      <td>0.0</td>\n",
       "      <td>83.0</td>\n",
       "      <td>Student</td>\n",
       "      <td>40074.190000</td>\n",
       "      <td>1.0</td>\n",
       "      <td>8.960316</td>\n",
       "      <td>1</td>\n",
       "      <td>Month-to-month</td>\n",
       "      <td>150.761216</td>\n",
       "      <td>271.493436</td>\n",
       "      <td>4</td>\n",
       "      <td>4</td>\n",
       "      <td>4</td>\n",
       "      <td>3</td>\n",
       "      <td>4</td>\n",
       "      <td>4</td>\n",
       "      <td>4</td>\n",
       "      <td>5</td>\n",
       "      <td>3.0</td>\n",
       "    </tr>\n",
       "    <tr>\n",
       "      <th>...</th>\n",
       "      <td>...</td>\n",
       "      <td>...</td>\n",
       "      <td>...</td>\n",
       "      <td>...</td>\n",
       "      <td>...</td>\n",
       "      <td>...</td>\n",
       "      <td>...</td>\n",
       "      <td>...</td>\n",
       "      <td>...</td>\n",
       "      <td>...</td>\n",
       "      <td>...</td>\n",
       "      <td>...</td>\n",
       "      <td>...</td>\n",
       "      <td>...</td>\n",
       "      <td>...</td>\n",
       "      <td>...</td>\n",
       "      <td>...</td>\n",
       "      <td>...</td>\n",
       "      <td>...</td>\n",
       "      <td>...</td>\n",
       "    </tr>\n",
       "    <tr>\n",
       "      <th>9995</th>\n",
       "      <td>Rural</td>\n",
       "      <td>3.0</td>\n",
       "      <td>53.0</td>\n",
       "      <td>Retired</td>\n",
       "      <td>55723.740000</td>\n",
       "      <td>0.0</td>\n",
       "      <td>9.265392</td>\n",
       "      <td>0</td>\n",
       "      <td>Month-to-month</td>\n",
       "      <td>159.828800</td>\n",
       "      <td>6511.253000</td>\n",
       "      <td>3</td>\n",
       "      <td>2</td>\n",
       "      <td>3</td>\n",
       "      <td>3</td>\n",
       "      <td>4</td>\n",
       "      <td>3</td>\n",
       "      <td>2</td>\n",
       "      <td>3</td>\n",
       "      <td>4.0</td>\n",
       "    </tr>\n",
       "    <tr>\n",
       "      <th>9996</th>\n",
       "      <td>Rural</td>\n",
       "      <td>4.0</td>\n",
       "      <td>48.0</td>\n",
       "      <td>Part Time</td>\n",
       "      <td>39936.762226</td>\n",
       "      <td>0.0</td>\n",
       "      <td>8.115849</td>\n",
       "      <td>0</td>\n",
       "      <td>Two Year</td>\n",
       "      <td>208.856400</td>\n",
       "      <td>5695.952000</td>\n",
       "      <td>4</td>\n",
       "      <td>5</td>\n",
       "      <td>5</td>\n",
       "      <td>4</td>\n",
       "      <td>4</td>\n",
       "      <td>5</td>\n",
       "      <td>2</td>\n",
       "      <td>5</td>\n",
       "      <td>6.0</td>\n",
       "    </tr>\n",
       "    <tr>\n",
       "      <th>9997</th>\n",
       "      <td>Rural</td>\n",
       "      <td>1.0</td>\n",
       "      <td>53.0</td>\n",
       "      <td>Full Time</td>\n",
       "      <td>39936.762226</td>\n",
       "      <td>0.0</td>\n",
       "      <td>4.837696</td>\n",
       "      <td>0</td>\n",
       "      <td>Month-to-month</td>\n",
       "      <td>168.220900</td>\n",
       "      <td>4159.306000</td>\n",
       "      <td>4</td>\n",
       "      <td>4</td>\n",
       "      <td>4</td>\n",
       "      <td>4</td>\n",
       "      <td>4</td>\n",
       "      <td>4</td>\n",
       "      <td>4</td>\n",
       "      <td>5</td>\n",
       "      <td>5.0</td>\n",
       "    </tr>\n",
       "    <tr>\n",
       "      <th>9998</th>\n",
       "      <td>Urban</td>\n",
       "      <td>1.0</td>\n",
       "      <td>39.0</td>\n",
       "      <td>Full Time</td>\n",
       "      <td>16667.580000</td>\n",
       "      <td>0.0</td>\n",
       "      <td>12.076460</td>\n",
       "      <td>0</td>\n",
       "      <td>Two Year</td>\n",
       "      <td>252.628600</td>\n",
       "      <td>6468.457000</td>\n",
       "      <td>4</td>\n",
       "      <td>4</td>\n",
       "      <td>6</td>\n",
       "      <td>4</td>\n",
       "      <td>3</td>\n",
       "      <td>3</td>\n",
       "      <td>5</td>\n",
       "      <td>4</td>\n",
       "      <td>5.0</td>\n",
       "    </tr>\n",
       "    <tr>\n",
       "      <th>9999</th>\n",
       "      <td>Urban</td>\n",
       "      <td>1.0</td>\n",
       "      <td>28.0</td>\n",
       "      <td>Full Time</td>\n",
       "      <td>39936.762226</td>\n",
       "      <td>0.0</td>\n",
       "      <td>12.641760</td>\n",
       "      <td>0</td>\n",
       "      <td>Month-to-month</td>\n",
       "      <td>218.371000</td>\n",
       "      <td>5857.586000</td>\n",
       "      <td>2</td>\n",
       "      <td>2</td>\n",
       "      <td>3</td>\n",
       "      <td>3</td>\n",
       "      <td>3</td>\n",
       "      <td>3</td>\n",
       "      <td>4</td>\n",
       "      <td>1</td>\n",
       "      <td>7.0</td>\n",
       "    </tr>\n",
       "  </tbody>\n",
       "</table>\n",
       "<p>10000 rows × 20 columns</p>\n",
       "</div>"
      ],
      "text/plain": [
       "          Area  Children   Age Employment        Income  Churn  \\\n",
       "0        Urban       1.0  68.0  Part Time  28561.990000    0.0   \n",
       "1        Urban       1.0  27.0    Retired  21704.770000    1.0   \n",
       "2        Urban       4.0  50.0    Student  39936.762226    0.0   \n",
       "3     Suburban       1.0  48.0    Retired  18925.230000    0.0   \n",
       "4     Suburban       0.0  83.0    Student  40074.190000    1.0   \n",
       "...        ...       ...   ...        ...           ...    ...   \n",
       "9995     Rural       3.0  53.0    Retired  55723.740000    0.0   \n",
       "9996     Rural       4.0  48.0  Part Time  39936.762226    0.0   \n",
       "9997     Rural       1.0  53.0  Full Time  39936.762226    0.0   \n",
       "9998     Urban       1.0  39.0  Full Time  16667.580000    0.0   \n",
       "9999     Urban       1.0  28.0  Full Time  39936.762226    0.0   \n",
       "\n",
       "      Outage_sec_perweek  Yearly_equip_failure        Contract  MonthlyCharge  \\\n",
       "0               6.972566                     1        One year     171.449762   \n",
       "1              12.014541                     1  Month-to-month     242.948015   \n",
       "2              10.245616                     1        Two Year     159.440398   \n",
       "3              15.206193                     0        Two Year     120.249493   \n",
       "4               8.960316                     1  Month-to-month     150.761216   \n",
       "...                  ...                   ...             ...            ...   \n",
       "9995            9.265392                     0  Month-to-month     159.828800   \n",
       "9996            8.115849                     0        Two Year     208.856400   \n",
       "9997            4.837696                     0  Month-to-month     168.220900   \n",
       "9998           12.076460                     0        Two Year     252.628600   \n",
       "9999           12.641760                     0  Month-to-month     218.371000   \n",
       "\n",
       "      Bandwidth_GB_Year  Timely_Response  Timely_Fixes  Timely_Replacement  \\\n",
       "0            904.536110                5             5                   5   \n",
       "1            800.982766                3             4                   3   \n",
       "2           2054.706961                4             4                   2   \n",
       "3           2164.579412                4             4                   4   \n",
       "4            271.493436                4             4                   4   \n",
       "...                 ...              ...           ...                 ...   \n",
       "9995        6511.253000                3             2                   3   \n",
       "9996        5695.952000                4             5                   5   \n",
       "9997        4159.306000                4             4                   4   \n",
       "9998        6468.457000                4             4                   6   \n",
       "9999        5857.586000                2             2                   3   \n",
       "\n",
       "      Reliability  Options  Respectable_Response  Courteous_Exchange  \\\n",
       "0               3        4                     4                   3   \n",
       "1               3        4                     3                   4   \n",
       "2               4        4                     3                   3   \n",
       "3               2        5                     4                   3   \n",
       "4               3        4                     4                   4   \n",
       "...           ...      ...                   ...                 ...   \n",
       "9995            3        4                     3                   2   \n",
       "9996            4        4                     5                   2   \n",
       "9997            4        4                     4                   4   \n",
       "9998            4        3                     3                   5   \n",
       "9999            3        3                     3                   4   \n",
       "\n",
       "      Evidence_of_active_listening  Sum_services  \n",
       "0                                4           5.0  \n",
       "1                                4           6.0  \n",
       "2                                3           4.0  \n",
       "3                                3           4.0  \n",
       "4                                5           3.0  \n",
       "...                            ...           ...  \n",
       "9995                             3           4.0  \n",
       "9996                             5           6.0  \n",
       "9997                             5           5.0  \n",
       "9998                             4           5.0  \n",
       "9999                             1           7.0  \n",
       "\n",
       "[10000 rows x 20 columns]"
      ]
     },
     "execution_count": 45,
     "metadata": {},
     "output_type": "execute_result"
    }
   ],
   "source": [
    "#Create new dataframe and drop all unused columns for our analysis\n",
    "dflog=df.drop(['CaseOrder','Customer_id','Interaction','City','State',\n",
    "               'County','Lat','Lng','Population','Timezone','Job',\n",
    "               'Education','Marital','InternetService','Phone','Multiple','OnlineSecurity',\n",
    "               'OnlineBackup','DeviceProtection','TechSupport','StreamingTV','StreamingMovies',\n",
    "               'Email','Contacts', 'Gender','PaperlessBilling','PaymentMethod',\n",
    "               'Techie','Port_modem','Tablet', 'Tenure','Z_ScoreServices'], axis = 1)\n",
    "\n",
    "dflog"
   ]
  },
  {
   "cell_type": "code",
   "execution_count": 46,
   "id": "afb7e3d4",
   "metadata": {},
   "outputs": [],
   "source": [
    "#Reinitialize df_cln\n",
    "df_cln = dflog"
   ]
  },
  {
   "cell_type": "code",
   "execution_count": 47,
   "id": "ae0d37bc",
   "metadata": {
    "scrolled": false
   },
   "outputs": [
    {
     "data": {
      "image/png": "[encoded data removed]",
      "text/plain": [
       "<Figure size 432x288 with 1 Axes>"
      ]
     },
     "metadata": {
      "needs_background": "light"
     },
     "output_type": "display_data"
    }
   ],
   "source": [
    "#Perform BoxPlot to find Outliers.\n",
    "g_boxplot = sns.boxplot(x='Churn', y='Sum_services', data=df_cln)"
   ]
  },
  {
   "cell_type": "code",
   "execution_count": 48,
   "id": "73e60ad0",
   "metadata": {
    "scrolled": true
   },
   "outputs": [
    {
     "data": {
      "image/png": "[encoded data removed]",
      "text/plain": [
       "<Figure size 432x288 with 1 Axes>"
      ]
     },
     "metadata": {
      "needs_background": "light"
     },
     "output_type": "display_data"
    }
   ],
   "source": [
    "#Perform Histogram on 'Sum_services'.\n",
    "h_gram=plt.hist(df_cln['Sum_services'], bins=8)"
   ]
  },
  {
   "cell_type": "code",
   "execution_count": 49,
   "id": "bbcedb9c",
   "metadata": {},
   "outputs": [
    {
     "data": {
      "text/plain": [
       "array([[<AxesSubplot:title={'center':'Sum_services'}>,\n",
       "        <AxesSubplot:title={'center':'Income'}>,\n",
       "        <AxesSubplot:title={'center':'Timely_Fixes'}>],\n",
       "       [<AxesSubplot:title={'center':'Timely_Replacement'}>,\n",
       "        <AxesSubplot:title={'center':'Reliability'}>,\n",
       "        <AxesSubplot:title={'center':'Options'}>],\n",
       "       [<AxesSubplot:title={'center':'Respectable_Response'}>,\n",
       "        <AxesSubplot:title={'center':'Courteous_Exchange'}>,\n",
       "        <AxesSubplot:title={'center':'Evidence_of_active_listening'}>]],\n",
       "      dtype=object)"
      ]
     },
     "execution_count": 49,
     "metadata": {},
     "output_type": "execute_result"
    },
    {
     "data": {
      "image/png": "[encoded data removed]",
      "text/plain": [
       "<Figure size 720x720 with 9 Axes>"
      ]
     },
     "metadata": {
      "needs_background": "light"
     },
     "output_type": "display_data"
    }
   ],
   "source": [
    "#Perform Univariate Analysis histogram on all predictor variables.\n",
    "df_cln[['Sum_services','Area','Employment','Income','Contract',\n",
    "        'Timely_Fixes','Timely_Replacement','Reliability','Options',\n",
    "        'Respectable_Response','Courteous_Exchange','Evidence_of_active_listening']].hist(figsize=(10,10),bins=10)"
   ]
  },
  {
   "cell_type": "code",
   "execution_count": 50,
   "id": "0f529f48",
   "metadata": {},
   "outputs": [
    {
     "data": {
      "text/plain": [
       "<AxesSubplot:xlabel='Sum_services'>"
      ]
     },
     "execution_count": 50,
     "metadata": {},
     "output_type": "execute_result"
    },
    {
     "data": {
      "image/png": "[encoded data removed]",
      "text/plain": [
       "<Figure size 432x288 with 1 Axes>"
      ]
     },
     "metadata": {
      "needs_background": "light"
     },
     "output_type": "display_data"
    }
   ],
   "source": [
    "#Create Boxplot for 'Sum_services'.\n",
    "sns.boxplot(x='Sum_services', data=df_cln)"
   ]
  },
  {
   "cell_type": "code",
   "execution_count": 51,
   "id": "f6157679",
   "metadata": {},
   "outputs": [
    {
     "data": {
      "text/plain": [
       "<AxesSubplot:xlabel='Income'>"
      ]
     },
     "execution_count": 51,
     "metadata": {},
     "output_type": "execute_result"
    },
    {
     "data": {
      "image/png": "[encoded data removed]",
      "text/plain": [
       "<Figure size 432x288 with 1 Axes>"
      ]
     },
     "metadata": {
      "needs_background": "light"
     },
     "output_type": "display_data"
    }
   ],
   "source": [
    "#Create Boxplot for 'Income'.\n",
    "sns.boxplot(x='Income', data=df_cln)"
   ]
  },
  {
   "cell_type": "code",
   "execution_count": 52,
   "id": "a380235d",
   "metadata": {
    "scrolled": true
   },
   "outputs": [
    {
     "data": {
      "image/png": "[encoded data removed]",
      "text/plain": [
       "<Figure size 432x288 with 1 Axes>"
      ]
     },
     "metadata": {
      "needs_background": "light"
     },
     "output_type": "display_data"
    }
   ],
   "source": [
    "#Perform Scatterplot on Various Predictor Variable\n",
    "sns.scatterplot(x=df_cln['MonthlyCharge'], y=df_cln['Outage_sec_perweek'], color='blue')\n",
    "plt.show();"
   ]
  },
  {
   "cell_type": "code",
   "execution_count": 53,
   "id": "926917b9",
   "metadata": {},
   "outputs": [
    {
     "data": {
      "image/png": "[encoded data removed]",
      "text/plain": [
       "<Figure size 432x288 with 1 Axes>"
      ]
     },
     "metadata": {
      "needs_background": "light"
     },
     "output_type": "display_data"
    }
   ],
   "source": [
    "#Scatterplot for potentially correlated variable\n",
    "sns.scatterplot(x=df_cln['MonthlyCharge'], y=df_cln['Churn'], color='blue')\n",
    "plt.show();"
   ]
  },
  {
   "cell_type": "code",
   "execution_count": 54,
   "id": "6ffcf551",
   "metadata": {},
   "outputs": [
    {
     "data": {
      "image/png": "[encoded data removed]",
      "text/plain": [
       "<Figure size 432x288 with 1 Axes>"
      ]
     },
     "metadata": {
      "needs_background": "light"
     },
     "output_type": "display_data"
    }
   ],
   "source": [
    "#Scatterplot for potentially correlated variable\n",
    "sns.scatterplot(x=df_cln['Outage_sec_perweek'], y=df_cln['Churn'], color='blue')\n",
    "plt.show();"
   ]
  },
  {
   "cell_type": "code",
   "execution_count": 55,
   "id": "1b38a594",
   "metadata": {},
   "outputs": [
    {
     "data": {
      "image/png": "[encoded data removed]",
      "text/plain": [
       "<Figure size 432x288 with 1 Axes>"
      ]
     },
     "metadata": {
      "needs_background": "light"
     },
     "output_type": "display_data"
    }
   ],
   "source": [
    "#Scatterplot for potentially correlated variable\n",
    "sns.scatterplot(x=df_cln['Timely_Fixes'], y=df_cln['Churn'], color='blue')\n",
    "plt.show()"
   ]
  },
  {
   "cell_type": "code",
   "execution_count": 56,
   "id": "909c0512",
   "metadata": {},
   "outputs": [
    {
     "data": {
      "image/png": "[encoded data removed]",
      "text/plain": [
       "<Figure size 432x288 with 1 Axes>"
      ]
     },
     "metadata": {
      "needs_background": "light"
     },
     "output_type": "display_data"
    }
   ],
   "source": [
    "#Create Bivariate Analysis of Churn and predictor variables.\n",
    "sns.scatterplot(x='Churn',y='Area', data=df_cln)\n",
    "plt.show()"
   ]
  },
  {
   "cell_type": "code",
   "execution_count": 57,
   "id": "681d0d23",
   "metadata": {},
   "outputs": [
    {
     "data": {
      "image/png": "[encoded data removed]",
      "text/plain": [
       "<Figure size 432x288 with 1 Axes>"
      ]
     },
     "metadata": {
      "needs_background": "light"
     },
     "output_type": "display_data"
    }
   ],
   "source": [
    "#Create Bivariate Analysis of Churn and predictor variables.\n",
    "sns.scatterplot(x='Churn',y='Contract', data=df_cln)\n",
    "plt.show()"
   ]
  },
  {
   "cell_type": "code",
   "execution_count": 58,
   "id": "dff7be77",
   "metadata": {},
   "outputs": [
    {
     "data": {
      "image/png": "[encoded data removed]",
      "text/plain": [
       "<Figure size 432x288 with 1 Axes>"
      ]
     },
     "metadata": {
      "needs_background": "light"
     },
     "output_type": "display_data"
    }
   ],
   "source": [
    "#Create Bivariate Analysis of Churn and predictor variables.\n",
    "sns.scatterplot(x='Churn',y='Employment', data=df_cln)\n",
    "plt.show()"
   ]
  },
  {
   "cell_type": "code",
   "execution_count": 59,
   "id": "dcf4e30e",
   "metadata": {},
   "outputs": [
    {
     "data": {
      "image/png": "[encoded data removed]",
      "text/plain": [
       "<Figure size 432x288 with 1 Axes>"
      ]
     },
     "metadata": {
      "needs_background": "light"
     },
     "output_type": "display_data"
    }
   ],
   "source": [
    "#Create Bivariate Analysis of Churn and predictor variables.\n",
    "sns.scatterplot(x='Churn',y='Income', data=df_cln)\n",
    "plt.show()"
   ]
  },
  {
   "cell_type": "code",
   "execution_count": 60,
   "id": "b5c1cb74",
   "metadata": {},
   "outputs": [
    {
     "data": {
      "image/png": "[encoded data removed]",
      "text/plain": [
       "<Figure size 432x288 with 1 Axes>"
      ]
     },
     "metadata": {
      "needs_background": "light"
     },
     "output_type": "display_data"
    }
   ],
   "source": [
    "#Create Bivariate Analysis of Churn and predictor variables.\n",
    "sns.scatterplot(x='Churn',y='Timely_Fixes', data=df_cln)\n",
    "plt.show()"
   ]
  },
  {
   "cell_type": "code",
   "execution_count": 61,
   "id": "12ba3666",
   "metadata": {},
   "outputs": [
    {
     "data": {
      "image/png": "[encoded data removed]",
      "text/plain": [
       "<Figure size 432x288 with 1 Axes>"
      ]
     },
     "metadata": {
      "needs_background": "light"
     },
     "output_type": "display_data"
    }
   ],
   "source": [
    "#Create Bivariate Analysis of Churn and predictor variables.\n",
    "sns.scatterplot(x='Churn',y='Timely_Replacement', data=df_cln)\n",
    "plt.show()"
   ]
  },
  {
   "cell_type": "code",
   "execution_count": 62,
   "id": "cfb7e217",
   "metadata": {},
   "outputs": [
    {
     "data": {
      "image/png": "[encoded data removed]",
      "text/plain": [
       "<Figure size 432x288 with 1 Axes>"
      ]
     },
     "metadata": {
      "needs_background": "light"
     },
     "output_type": "display_data"
    }
   ],
   "source": [
    "#Create Bivariate Analysis of Churn and predictor variables.\n",
    "sns.scatterplot(x='Churn',y='Reliability', data=df_cln)\n",
    "plt.show()"
   ]
  },
  {
   "cell_type": "code",
   "execution_count": 63,
   "id": "638d64e7",
   "metadata": {
    "scrolled": true
   },
   "outputs": [
    {
     "data": {
      "image/png": "[encoded data removed]",
      "text/plain": [
       "<Figure size 432x288 with 1 Axes>"
      ]
     },
     "metadata": {
      "needs_background": "light"
     },
     "output_type": "display_data"
    }
   ],
   "source": [
    "#Create Bivariate Analysis of Churn and predictor variables.\n",
    "sns.scatterplot(x='Churn',y='Options', data=df_cln)\n",
    "plt.show()"
   ]
  },
  {
   "cell_type": "code",
   "execution_count": 64,
   "id": "0af8f8ab",
   "metadata": {},
   "outputs": [
    {
     "data": {
      "image/png": "[encoded data removed]",
      "text/plain": [
       "<Figure size 432x288 with 1 Axes>"
      ]
     },
     "metadata": {
      "needs_background": "light"
     },
     "output_type": "display_data"
    }
   ],
   "source": [
    "#Create Bivariate Analysis of Churn and predictor variables.\n",
    "sns.scatterplot(x='Churn',y='Respectable_Response', data=df_cln)\n",
    "plt.show()"
   ]
  },
  {
   "cell_type": "code",
   "execution_count": 65,
   "id": "9911edfc",
   "metadata": {
    "scrolled": true
   },
   "outputs": [
    {
     "data": {
      "image/png": "[encoded data removed]",
      "text/plain": [
       "<Figure size 432x288 with 1 Axes>"
      ]
     },
     "metadata": {
      "needs_background": "light"
     },
     "output_type": "display_data"
    }
   ],
   "source": [
    "#Create Bivariate Analysis of Churn and predictor variables.\n",
    "sns.scatterplot(x='Churn',y='Courteous_Exchange', data=df_cln)\n",
    "plt.show()"
   ]
  },
  {
   "cell_type": "code",
   "execution_count": 66,
   "id": "2bbc5cdf",
   "metadata": {},
   "outputs": [
    {
     "data": {
      "image/png": "[encoded data removed]",
      "text/plain": [
       "<Figure size 432x288 with 1 Axes>"
      ]
     },
     "metadata": {
      "needs_background": "light"
     },
     "output_type": "display_data"
    }
   ],
   "source": [
    "#Create Bivariate Analysis of Churn and predictor variables.\n",
    "sns.regplot(x='Churn',y='Sum_services', data=df_cln, line_kws={\"color\": \"red\"})\n",
    "plt.show()"
   ]
  },
  {
   "cell_type": "code",
   "execution_count": 67,
   "id": "5e8a83d8",
   "metadata": {},
   "outputs": [
    {
     "data": {
      "image/png": "[encoded data removed]",
      "text/plain": [
       "<Figure size 432x288 with 1 Axes>"
      ]
     },
     "metadata": {
      "needs_background": "light"
     },
     "output_type": "display_data"
    }
   ],
   "source": [
    "#Create Bivariate Analysis of Churn and predictor variables.\n",
    "sns.regplot(x='Churn',y='Income', data=df_cln, line_kws={\"color\": \"red\"})\n",
    "plt.show()"
   ]
  },
  {
   "cell_type": "code",
   "execution_count": 68,
   "id": "d1768841",
   "metadata": {},
   "outputs": [
    {
     "data": {
      "image/png": "[encoded data removed]",
      "text/plain": [
       "<Figure size 432x288 with 1 Axes>"
      ]
     },
     "metadata": {
      "needs_background": "light"
     },
     "output_type": "display_data"
    }
   ],
   "source": [
    "#Create Bivariate Analysis of Churn and predictor variables.\n",
    "sns.regplot(x='Churn',y='Timely_Fixes', data=df_cln, line_kws={\"color\": \"red\"})\n",
    "plt.show()"
   ]
  },
  {
   "cell_type": "code",
   "execution_count": 69,
   "id": "ce39ec10",
   "metadata": {},
   "outputs": [
    {
     "data": {
      "image/png": "[encoded data removed]",
      "text/plain": [
       "<Figure size 432x288 with 1 Axes>"
      ]
     },
     "metadata": {
      "needs_background": "light"
     },
     "output_type": "display_data"
    }
   ],
   "source": [
    "#Create Bivariate Analysis of Churn and predictor variables.\n",
    "sns.regplot(x='Churn',y='Timely_Replacement', data=df_cln, line_kws={\"color\": \"red\"})\n",
    "plt.show()"
   ]
  },
  {
   "cell_type": "code",
   "execution_count": 70,
   "id": "790562a1",
   "metadata": {},
   "outputs": [
    {
     "data": {
      "image/png": "[encoded data removed]",
      "text/plain": [
       "<Figure size 432x288 with 1 Axes>"
      ]
     },
     "metadata": {
      "needs_background": "light"
     },
     "output_type": "display_data"
    }
   ],
   "source": [
    "#Create Bivariate Analysis of Churn and predictor variables.\n",
    "sns.regplot(x='Churn',y='Reliability', data=df_cln, line_kws={\"color\": \"red\"})\n",
    "plt.show()"
   ]
  },
  {
   "cell_type": "code",
   "execution_count": 71,
   "id": "facab0dc",
   "metadata": {},
   "outputs": [
    {
     "data": {
      "image/png": "[encoded data removed]",
      "text/plain": [
       "<Figure size 432x288 with 1 Axes>"
      ]
     },
     "metadata": {
      "needs_background": "light"
     },
     "output_type": "display_data"
    }
   ],
   "source": [
    "#Create Bivariate Analysis of Churn and predictor variables.\n",
    "sns.regplot(x='Churn',y='Options', data=df_cln, line_kws={\"color\": \"red\"})\n",
    "plt.show()"
   ]
  },
  {
   "cell_type": "code",
   "execution_count": 72,
   "id": "9032b703",
   "metadata": {},
   "outputs": [
    {
     "data": {
      "image/png": "[encoded data removed]",
      "text/plain": [
       "<Figure size 432x288 with 1 Axes>"
      ]
     },
     "metadata": {
      "needs_background": "light"
     },
     "output_type": "display_data"
    }
   ],
   "source": [
    "#Create Bivariate Analysis of Churn and predictor variables.\n",
    "sns.regplot(x='Churn',y='Respectable_Response', data=df_cln, line_kws={\"color\": \"red\"})\n",
    "plt.show()"
   ]
  },
  {
   "cell_type": "code",
   "execution_count": 73,
   "id": "f7b1be2d",
   "metadata": {},
   "outputs": [
    {
     "data": {
      "image/png": "[encoded data removed]",
      "text/plain": [
       "<Figure size 432x288 with 1 Axes>"
      ]
     },
     "metadata": {
      "needs_background": "light"
     },
     "output_type": "display_data"
    }
   ],
   "source": [
    "#Create Bivariate Analysis of Churn and predictor variables.\n",
    "sns.regplot(x='Churn',y='Courteous_Exchange', data=df_cln, line_kws={\"color\": \"red\"})\n",
    "plt.show()"
   ]
  },
  {
   "cell_type": "code",
   "execution_count": 74,
   "id": "73a083a4",
   "metadata": {},
   "outputs": [
    {
     "data": {
      "image/png": "[encoded data removed]",
      "text/plain": [
       "<Figure size 432x288 with 1 Axes>"
      ]
     },
     "metadata": {
      "needs_background": "light"
     },
     "output_type": "display_data"
    }
   ],
   "source": [
    "#Create Bivariate Analysis of Churn and predictor variables.\n",
    "sns.regplot(x='Churn',y='Evidence_of_active_listening', data=df_cln, line_kws={\"color\": \"red\"})\n",
    "plt.show()"
   ]
  },
  {
   "cell_type": "code",
   "execution_count": 75,
   "id": "eacf1717",
   "metadata": {
    "scrolled": true
   },
   "outputs": [
    {
     "data": {
      "text/html": [
       "<div>\n",
       "<style scoped>\n",
       "    .dataframe tbody tr th:only-of-type {\n",
       "        vertical-align: middle;\n",
       "    }\n",
       "\n",
       "    .dataframe tbody tr th {\n",
       "        vertical-align: top;\n",
       "    }\n",
       "\n",
       "    .dataframe thead th {\n",
       "        text-align: right;\n",
       "    }\n",
       "</style>\n",
       "<table border=\"1\" class=\"dataframe\">\n",
       "  <thead>\n",
       "    <tr style=\"text-align: right;\">\n",
       "      <th></th>\n",
       "      <th>Dummy_Suburban</th>\n",
       "      <th>Dummy_Urban</th>\n",
       "      <th>Dummy_Part Time</th>\n",
       "      <th>Dummy_Retired</th>\n",
       "      <th>Dummy_Student</th>\n",
       "      <th>Dummy_Unemployed</th>\n",
       "      <th>Dummy_One year</th>\n",
       "      <th>Dummy_Two Year</th>\n",
       "    </tr>\n",
       "  </thead>\n",
       "  <tbody>\n",
       "    <tr>\n",
       "      <th>0</th>\n",
       "      <td>0</td>\n",
       "      <td>1</td>\n",
       "      <td>1</td>\n",
       "      <td>0</td>\n",
       "      <td>0</td>\n",
       "      <td>0</td>\n",
       "      <td>1</td>\n",
       "      <td>0</td>\n",
       "    </tr>\n",
       "    <tr>\n",
       "      <th>1</th>\n",
       "      <td>0</td>\n",
       "      <td>1</td>\n",
       "      <td>0</td>\n",
       "      <td>1</td>\n",
       "      <td>0</td>\n",
       "      <td>0</td>\n",
       "      <td>0</td>\n",
       "      <td>0</td>\n",
       "    </tr>\n",
       "    <tr>\n",
       "      <th>2</th>\n",
       "      <td>0</td>\n",
       "      <td>1</td>\n",
       "      <td>0</td>\n",
       "      <td>0</td>\n",
       "      <td>1</td>\n",
       "      <td>0</td>\n",
       "      <td>0</td>\n",
       "      <td>1</td>\n",
       "    </tr>\n",
       "    <tr>\n",
       "      <th>3</th>\n",
       "      <td>1</td>\n",
       "      <td>0</td>\n",
       "      <td>0</td>\n",
       "      <td>1</td>\n",
       "      <td>0</td>\n",
       "      <td>0</td>\n",
       "      <td>0</td>\n",
       "      <td>1</td>\n",
       "    </tr>\n",
       "    <tr>\n",
       "      <th>4</th>\n",
       "      <td>1</td>\n",
       "      <td>0</td>\n",
       "      <td>0</td>\n",
       "      <td>0</td>\n",
       "      <td>1</td>\n",
       "      <td>0</td>\n",
       "      <td>0</td>\n",
       "      <td>0</td>\n",
       "    </tr>\n",
       "    <tr>\n",
       "      <th>...</th>\n",
       "      <td>...</td>\n",
       "      <td>...</td>\n",
       "      <td>...</td>\n",
       "      <td>...</td>\n",
       "      <td>...</td>\n",
       "      <td>...</td>\n",
       "      <td>...</td>\n",
       "      <td>...</td>\n",
       "    </tr>\n",
       "    <tr>\n",
       "      <th>9995</th>\n",
       "      <td>0</td>\n",
       "      <td>0</td>\n",
       "      <td>0</td>\n",
       "      <td>1</td>\n",
       "      <td>0</td>\n",
       "      <td>0</td>\n",
       "      <td>0</td>\n",
       "      <td>0</td>\n",
       "    </tr>\n",
       "    <tr>\n",
       "      <th>9996</th>\n",
       "      <td>0</td>\n",
       "      <td>0</td>\n",
       "      <td>1</td>\n",
       "      <td>0</td>\n",
       "      <td>0</td>\n",
       "      <td>0</td>\n",
       "      <td>0</td>\n",
       "      <td>1</td>\n",
       "    </tr>\n",
       "    <tr>\n",
       "      <th>9997</th>\n",
       "      <td>0</td>\n",
       "      <td>0</td>\n",
       "      <td>0</td>\n",
       "      <td>0</td>\n",
       "      <td>0</td>\n",
       "      <td>0</td>\n",
       "      <td>0</td>\n",
       "      <td>0</td>\n",
       "    </tr>\n",
       "    <tr>\n",
       "      <th>9998</th>\n",
       "      <td>0</td>\n",
       "      <td>1</td>\n",
       "      <td>0</td>\n",
       "      <td>0</td>\n",
       "      <td>0</td>\n",
       "      <td>0</td>\n",
       "      <td>0</td>\n",
       "      <td>1</td>\n",
       "    </tr>\n",
       "    <tr>\n",
       "      <th>9999</th>\n",
       "      <td>0</td>\n",
       "      <td>1</td>\n",
       "      <td>0</td>\n",
       "      <td>0</td>\n",
       "      <td>0</td>\n",
       "      <td>0</td>\n",
       "      <td>0</td>\n",
       "      <td>0</td>\n",
       "    </tr>\n",
       "  </tbody>\n",
       "</table>\n",
       "<p>10000 rows × 8 columns</p>\n",
       "</div>"
      ],
      "text/plain": [
       "      Dummy_Suburban  Dummy_Urban  Dummy_Part Time  Dummy_Retired  \\\n",
       "0                  0            1                1              0   \n",
       "1                  0            1                0              1   \n",
       "2                  0            1                0              0   \n",
       "3                  1            0                0              1   \n",
       "4                  1            0                0              0   \n",
       "...              ...          ...              ...            ...   \n",
       "9995               0            0                0              1   \n",
       "9996               0            0                1              0   \n",
       "9997               0            0                0              0   \n",
       "9998               0            1                0              0   \n",
       "9999               0            1                0              0   \n",
       "\n",
       "      Dummy_Student  Dummy_Unemployed  Dummy_One year  Dummy_Two Year  \n",
       "0                 0                 0               1               0  \n",
       "1                 0                 0               0               0  \n",
       "2                 1                 0               0               1  \n",
       "3                 0                 0               0               1  \n",
       "4                 1                 0               0               0  \n",
       "...             ...               ...             ...             ...  \n",
       "9995              0                 0               0               0  \n",
       "9996              0                 0               0               1  \n",
       "9997              0                 0               0               0  \n",
       "9998              0                 0               0               1  \n",
       "9999              0                 0               0               0  \n",
       "\n",
       "[10000 rows x 8 columns]"
      ]
     },
     "execution_count": 75,
     "metadata": {},
     "output_type": "execute_result"
    }
   ],
   "source": [
    "#Create Dummy Variables for Categorical Variables\n",
    "d_var=pd.get_dummies(df[['Area','Employment','Contract']], prefix=\"Dummy\", drop_first=True)\n",
    "d_var"
   ]
  },
  {
   "cell_type": "code",
   "execution_count": 76,
   "id": "fb44113c",
   "metadata": {},
   "outputs": [
    {
     "data": {
      "text/html": [
       "<div>\n",
       "<style scoped>\n",
       "    .dataframe tbody tr th:only-of-type {\n",
       "        vertical-align: middle;\n",
       "    }\n",
       "\n",
       "    .dataframe tbody tr th {\n",
       "        vertical-align: top;\n",
       "    }\n",
       "\n",
       "    .dataframe thead th {\n",
       "        text-align: right;\n",
       "    }\n",
       "</style>\n",
       "<table border=\"1\" class=\"dataframe\">\n",
       "  <thead>\n",
       "    <tr style=\"text-align: right;\">\n",
       "      <th></th>\n",
       "      <th>Children</th>\n",
       "      <th>Age</th>\n",
       "      <th>Income</th>\n",
       "      <th>Outage_sec_perweek</th>\n",
       "      <th>Yearly_equip_failure</th>\n",
       "      <th>MonthlyCharge</th>\n",
       "      <th>Bandwidth_GB_Year</th>\n",
       "      <th>Timely_Response</th>\n",
       "      <th>Timely_Fixes</th>\n",
       "      <th>Timely_Replacement</th>\n",
       "      <th>...</th>\n",
       "      <th>Evidence_of_active_listening</th>\n",
       "      <th>Sum_services</th>\n",
       "      <th>Dummy_Suburban</th>\n",
       "      <th>Dummy_Urban</th>\n",
       "      <th>Dummy_Part Time</th>\n",
       "      <th>Dummy_Retired</th>\n",
       "      <th>Dummy_Student</th>\n",
       "      <th>Dummy_Unemployed</th>\n",
       "      <th>Dummy_One year</th>\n",
       "      <th>Dummy_Two Year</th>\n",
       "    </tr>\n",
       "  </thead>\n",
       "  <tbody>\n",
       "    <tr>\n",
       "      <th>0</th>\n",
       "      <td>1.0</td>\n",
       "      <td>68.0</td>\n",
       "      <td>28561.990000</td>\n",
       "      <td>6.972566</td>\n",
       "      <td>1</td>\n",
       "      <td>171.449762</td>\n",
       "      <td>904.536110</td>\n",
       "      <td>5</td>\n",
       "      <td>5</td>\n",
       "      <td>5</td>\n",
       "      <td>...</td>\n",
       "      <td>4</td>\n",
       "      <td>5.0</td>\n",
       "      <td>0</td>\n",
       "      <td>1</td>\n",
       "      <td>1</td>\n",
       "      <td>0</td>\n",
       "      <td>0</td>\n",
       "      <td>0</td>\n",
       "      <td>1</td>\n",
       "      <td>0</td>\n",
       "    </tr>\n",
       "    <tr>\n",
       "      <th>1</th>\n",
       "      <td>1.0</td>\n",
       "      <td>27.0</td>\n",
       "      <td>21704.770000</td>\n",
       "      <td>12.014541</td>\n",
       "      <td>1</td>\n",
       "      <td>242.948015</td>\n",
       "      <td>800.982766</td>\n",
       "      <td>3</td>\n",
       "      <td>4</td>\n",
       "      <td>3</td>\n",
       "      <td>...</td>\n",
       "      <td>4</td>\n",
       "      <td>6.0</td>\n",
       "      <td>0</td>\n",
       "      <td>1</td>\n",
       "      <td>0</td>\n",
       "      <td>1</td>\n",
       "      <td>0</td>\n",
       "      <td>0</td>\n",
       "      <td>0</td>\n",
       "      <td>0</td>\n",
       "    </tr>\n",
       "    <tr>\n",
       "      <th>2</th>\n",
       "      <td>4.0</td>\n",
       "      <td>50.0</td>\n",
       "      <td>39936.762226</td>\n",
       "      <td>10.245616</td>\n",
       "      <td>1</td>\n",
       "      <td>159.440398</td>\n",
       "      <td>2054.706961</td>\n",
       "      <td>4</td>\n",
       "      <td>4</td>\n",
       "      <td>2</td>\n",
       "      <td>...</td>\n",
       "      <td>3</td>\n",
       "      <td>4.0</td>\n",
       "      <td>0</td>\n",
       "      <td>1</td>\n",
       "      <td>0</td>\n",
       "      <td>0</td>\n",
       "      <td>1</td>\n",
       "      <td>0</td>\n",
       "      <td>0</td>\n",
       "      <td>1</td>\n",
       "    </tr>\n",
       "    <tr>\n",
       "      <th>3</th>\n",
       "      <td>1.0</td>\n",
       "      <td>48.0</td>\n",
       "      <td>18925.230000</td>\n",
       "      <td>15.206193</td>\n",
       "      <td>0</td>\n",
       "      <td>120.249493</td>\n",
       "      <td>2164.579412</td>\n",
       "      <td>4</td>\n",
       "      <td>4</td>\n",
       "      <td>4</td>\n",
       "      <td>...</td>\n",
       "      <td>3</td>\n",
       "      <td>4.0</td>\n",
       "      <td>1</td>\n",
       "      <td>0</td>\n",
       "      <td>0</td>\n",
       "      <td>1</td>\n",
       "      <td>0</td>\n",
       "      <td>0</td>\n",
       "      <td>0</td>\n",
       "      <td>1</td>\n",
       "    </tr>\n",
       "    <tr>\n",
       "      <th>4</th>\n",
       "      <td>0.0</td>\n",
       "      <td>83.0</td>\n",
       "      <td>40074.190000</td>\n",
       "      <td>8.960316</td>\n",
       "      <td>1</td>\n",
       "      <td>150.761216</td>\n",
       "      <td>271.493436</td>\n",
       "      <td>4</td>\n",
       "      <td>4</td>\n",
       "      <td>4</td>\n",
       "      <td>...</td>\n",
       "      <td>5</td>\n",
       "      <td>3.0</td>\n",
       "      <td>1</td>\n",
       "      <td>0</td>\n",
       "      <td>0</td>\n",
       "      <td>0</td>\n",
       "      <td>1</td>\n",
       "      <td>0</td>\n",
       "      <td>0</td>\n",
       "      <td>0</td>\n",
       "    </tr>\n",
       "    <tr>\n",
       "      <th>...</th>\n",
       "      <td>...</td>\n",
       "      <td>...</td>\n",
       "      <td>...</td>\n",
       "      <td>...</td>\n",
       "      <td>...</td>\n",
       "      <td>...</td>\n",
       "      <td>...</td>\n",
       "      <td>...</td>\n",
       "      <td>...</td>\n",
       "      <td>...</td>\n",
       "      <td>...</td>\n",
       "      <td>...</td>\n",
       "      <td>...</td>\n",
       "      <td>...</td>\n",
       "      <td>...</td>\n",
       "      <td>...</td>\n",
       "      <td>...</td>\n",
       "      <td>...</td>\n",
       "      <td>...</td>\n",
       "      <td>...</td>\n",
       "      <td>...</td>\n",
       "    </tr>\n",
       "    <tr>\n",
       "      <th>9995</th>\n",
       "      <td>3.0</td>\n",
       "      <td>53.0</td>\n",
       "      <td>55723.740000</td>\n",
       "      <td>9.265392</td>\n",
       "      <td>0</td>\n",
       "      <td>159.828800</td>\n",
       "      <td>6511.253000</td>\n",
       "      <td>3</td>\n",
       "      <td>2</td>\n",
       "      <td>3</td>\n",
       "      <td>...</td>\n",
       "      <td>3</td>\n",
       "      <td>4.0</td>\n",
       "      <td>0</td>\n",
       "      <td>0</td>\n",
       "      <td>0</td>\n",
       "      <td>1</td>\n",
       "      <td>0</td>\n",
       "      <td>0</td>\n",
       "      <td>0</td>\n",
       "      <td>0</td>\n",
       "    </tr>\n",
       "    <tr>\n",
       "      <th>9996</th>\n",
       "      <td>4.0</td>\n",
       "      <td>48.0</td>\n",
       "      <td>39936.762226</td>\n",
       "      <td>8.115849</td>\n",
       "      <td>0</td>\n",
       "      <td>208.856400</td>\n",
       "      <td>5695.952000</td>\n",
       "      <td>4</td>\n",
       "      <td>5</td>\n",
       "      <td>5</td>\n",
       "      <td>...</td>\n",
       "      <td>5</td>\n",
       "      <td>6.0</td>\n",
       "      <td>0</td>\n",
       "      <td>0</td>\n",
       "      <td>1</td>\n",
       "      <td>0</td>\n",
       "      <td>0</td>\n",
       "      <td>0</td>\n",
       "      <td>0</td>\n",
       "      <td>1</td>\n",
       "    </tr>\n",
       "    <tr>\n",
       "      <th>9997</th>\n",
       "      <td>1.0</td>\n",
       "      <td>53.0</td>\n",
       "      <td>39936.762226</td>\n",
       "      <td>4.837696</td>\n",
       "      <td>0</td>\n",
       "      <td>168.220900</td>\n",
       "      <td>4159.306000</td>\n",
       "      <td>4</td>\n",
       "      <td>4</td>\n",
       "      <td>4</td>\n",
       "      <td>...</td>\n",
       "      <td>5</td>\n",
       "      <td>5.0</td>\n",
       "      <td>0</td>\n",
       "      <td>0</td>\n",
       "      <td>0</td>\n",
       "      <td>0</td>\n",
       "      <td>0</td>\n",
       "      <td>0</td>\n",
       "      <td>0</td>\n",
       "      <td>0</td>\n",
       "    </tr>\n",
       "    <tr>\n",
       "      <th>9998</th>\n",
       "      <td>1.0</td>\n",
       "      <td>39.0</td>\n",
       "      <td>16667.580000</td>\n",
       "      <td>12.076460</td>\n",
       "      <td>0</td>\n",
       "      <td>252.628600</td>\n",
       "      <td>6468.457000</td>\n",
       "      <td>4</td>\n",
       "      <td>4</td>\n",
       "      <td>6</td>\n",
       "      <td>...</td>\n",
       "      <td>4</td>\n",
       "      <td>5.0</td>\n",
       "      <td>0</td>\n",
       "      <td>1</td>\n",
       "      <td>0</td>\n",
       "      <td>0</td>\n",
       "      <td>0</td>\n",
       "      <td>0</td>\n",
       "      <td>0</td>\n",
       "      <td>1</td>\n",
       "    </tr>\n",
       "    <tr>\n",
       "      <th>9999</th>\n",
       "      <td>1.0</td>\n",
       "      <td>28.0</td>\n",
       "      <td>39936.762226</td>\n",
       "      <td>12.641760</td>\n",
       "      <td>0</td>\n",
       "      <td>218.371000</td>\n",
       "      <td>5857.586000</td>\n",
       "      <td>2</td>\n",
       "      <td>2</td>\n",
       "      <td>3</td>\n",
       "      <td>...</td>\n",
       "      <td>1</td>\n",
       "      <td>7.0</td>\n",
       "      <td>0</td>\n",
       "      <td>1</td>\n",
       "      <td>0</td>\n",
       "      <td>0</td>\n",
       "      <td>0</td>\n",
       "      <td>0</td>\n",
       "      <td>0</td>\n",
       "      <td>0</td>\n",
       "    </tr>\n",
       "  </tbody>\n",
       "</table>\n",
       "<p>10000 rows × 24 columns</p>\n",
       "</div>"
      ],
      "text/plain": [
       "      Children   Age        Income  Outage_sec_perweek  Yearly_equip_failure  \\\n",
       "0          1.0  68.0  28561.990000            6.972566                     1   \n",
       "1          1.0  27.0  21704.770000           12.014541                     1   \n",
       "2          4.0  50.0  39936.762226           10.245616                     1   \n",
       "3          1.0  48.0  18925.230000           15.206193                     0   \n",
       "4          0.0  83.0  40074.190000            8.960316                     1   \n",
       "...        ...   ...           ...                 ...                   ...   \n",
       "9995       3.0  53.0  55723.740000            9.265392                     0   \n",
       "9996       4.0  48.0  39936.762226            8.115849                     0   \n",
       "9997       1.0  53.0  39936.762226            4.837696                     0   \n",
       "9998       1.0  39.0  16667.580000           12.076460                     0   \n",
       "9999       1.0  28.0  39936.762226           12.641760                     0   \n",
       "\n",
       "      MonthlyCharge  Bandwidth_GB_Year  Timely_Response  Timely_Fixes  \\\n",
       "0        171.449762         904.536110                5             5   \n",
       "1        242.948015         800.982766                3             4   \n",
       "2        159.440398        2054.706961                4             4   \n",
       "3        120.249493        2164.579412                4             4   \n",
       "4        150.761216         271.493436                4             4   \n",
       "...             ...                ...              ...           ...   \n",
       "9995     159.828800        6511.253000                3             2   \n",
       "9996     208.856400        5695.952000                4             5   \n",
       "9997     168.220900        4159.306000                4             4   \n",
       "9998     252.628600        6468.457000                4             4   \n",
       "9999     218.371000        5857.586000                2             2   \n",
       "\n",
       "      Timely_Replacement  ...  Evidence_of_active_listening  Sum_services  \\\n",
       "0                      5  ...                             4           5.0   \n",
       "1                      3  ...                             4           6.0   \n",
       "2                      2  ...                             3           4.0   \n",
       "3                      4  ...                             3           4.0   \n",
       "4                      4  ...                             5           3.0   \n",
       "...                  ...  ...                           ...           ...   \n",
       "9995                   3  ...                             3           4.0   \n",
       "9996                   5  ...                             5           6.0   \n",
       "9997                   4  ...                             5           5.0   \n",
       "9998                   6  ...                             4           5.0   \n",
       "9999                   3  ...                             1           7.0   \n",
       "\n",
       "      Dummy_Suburban  Dummy_Urban  Dummy_Part Time  Dummy_Retired  \\\n",
       "0                  0            1                1              0   \n",
       "1                  0            1                0              1   \n",
       "2                  0            1                0              0   \n",
       "3                  1            0                0              1   \n",
       "4                  1            0                0              0   \n",
       "...              ...          ...              ...            ...   \n",
       "9995               0            0                0              1   \n",
       "9996               0            0                1              0   \n",
       "9997               0            0                0              0   \n",
       "9998               0            1                0              0   \n",
       "9999               0            1                0              0   \n",
       "\n",
       "      Dummy_Student  Dummy_Unemployed  Dummy_One year  Dummy_Two Year  \n",
       "0                 0                 0               1               0  \n",
       "1                 0                 0               0               0  \n",
       "2                 1                 0               0               1  \n",
       "3                 0                 0               0               1  \n",
       "4                 1                 0               0               0  \n",
       "...             ...               ...             ...             ...  \n",
       "9995              0                 0               0               0  \n",
       "9996              0                 0               0               1  \n",
       "9997              0                 0               0               0  \n",
       "9998              0                 0               0               1  \n",
       "9999              0                 0               0               0  \n",
       "\n",
       "[10000 rows x 24 columns]"
      ]
     },
     "execution_count": 76,
     "metadata": {},
     "output_type": "execute_result"
    }
   ],
   "source": [
    "#Add the dummy variable to a new df. Drop the rows that has null values and create copy of the data frame.\n",
    "df_model=pd.concat([df_cln,d_var], axis=1)\n",
    "df_model=df_model.dropna()\n",
    "df_model=df_model.drop(['Area','Employment','Contract','Churn'], axis=1)\n",
    "df_model"
   ]
  },
  {
   "cell_type": "code",
   "execution_count": 77,
   "id": "352525fb",
   "metadata": {},
   "outputs": [
    {
     "data": {
      "text/html": [
       "<div>\n",
       "<style scoped>\n",
       "    .dataframe tbody tr th:only-of-type {\n",
       "        vertical-align: middle;\n",
       "    }\n",
       "\n",
       "    .dataframe tbody tr th {\n",
       "        vertical-align: top;\n",
       "    }\n",
       "\n",
       "    .dataframe thead th {\n",
       "        text-align: right;\n",
       "    }\n",
       "</style>\n",
       "<table border=\"1\" class=\"dataframe\">\n",
       "  <thead>\n",
       "    <tr style=\"text-align: right;\">\n",
       "      <th></th>\n",
       "      <th>Children</th>\n",
       "      <th>Age</th>\n",
       "      <th>Income</th>\n",
       "      <th>Outage_sec_perweek</th>\n",
       "      <th>Yearly_equip_failure</th>\n",
       "      <th>MonthlyCharge</th>\n",
       "      <th>Bandwidth_GB_Year</th>\n",
       "      <th>Timely_Response</th>\n",
       "      <th>Timely_Fixes</th>\n",
       "      <th>Timely_Replacement</th>\n",
       "      <th>...</th>\n",
       "      <th>Evidence_of_active_listening</th>\n",
       "      <th>Sum_services</th>\n",
       "      <th>Dummy_Suburban</th>\n",
       "      <th>Dummy_Urban</th>\n",
       "      <th>Dummy_Part Time</th>\n",
       "      <th>Dummy_Retired</th>\n",
       "      <th>Dummy_Student</th>\n",
       "      <th>Dummy_Unemployed</th>\n",
       "      <th>Dummy_One year</th>\n",
       "      <th>Dummy_Two Year</th>\n",
       "    </tr>\n",
       "  </thead>\n",
       "  <tbody>\n",
       "    <tr>\n",
       "      <th>0</th>\n",
       "      <td>1.0</td>\n",
       "      <td>68.0</td>\n",
       "      <td>28561.990000</td>\n",
       "      <td>6.972566</td>\n",
       "      <td>1</td>\n",
       "      <td>171.449762</td>\n",
       "      <td>904.536110</td>\n",
       "      <td>5</td>\n",
       "      <td>5</td>\n",
       "      <td>5</td>\n",
       "      <td>...</td>\n",
       "      <td>4</td>\n",
       "      <td>5.0</td>\n",
       "      <td>0</td>\n",
       "      <td>1</td>\n",
       "      <td>1</td>\n",
       "      <td>0</td>\n",
       "      <td>0</td>\n",
       "      <td>0</td>\n",
       "      <td>1</td>\n",
       "      <td>0</td>\n",
       "    </tr>\n",
       "    <tr>\n",
       "      <th>1</th>\n",
       "      <td>1.0</td>\n",
       "      <td>27.0</td>\n",
       "      <td>21704.770000</td>\n",
       "      <td>12.014541</td>\n",
       "      <td>1</td>\n",
       "      <td>242.948015</td>\n",
       "      <td>800.982766</td>\n",
       "      <td>3</td>\n",
       "      <td>4</td>\n",
       "      <td>3</td>\n",
       "      <td>...</td>\n",
       "      <td>4</td>\n",
       "      <td>6.0</td>\n",
       "      <td>0</td>\n",
       "      <td>1</td>\n",
       "      <td>0</td>\n",
       "      <td>1</td>\n",
       "      <td>0</td>\n",
       "      <td>0</td>\n",
       "      <td>0</td>\n",
       "      <td>0</td>\n",
       "    </tr>\n",
       "    <tr>\n",
       "      <th>2</th>\n",
       "      <td>4.0</td>\n",
       "      <td>50.0</td>\n",
       "      <td>39936.762226</td>\n",
       "      <td>10.245616</td>\n",
       "      <td>1</td>\n",
       "      <td>159.440398</td>\n",
       "      <td>2054.706961</td>\n",
       "      <td>4</td>\n",
       "      <td>4</td>\n",
       "      <td>2</td>\n",
       "      <td>...</td>\n",
       "      <td>3</td>\n",
       "      <td>4.0</td>\n",
       "      <td>0</td>\n",
       "      <td>1</td>\n",
       "      <td>0</td>\n",
       "      <td>0</td>\n",
       "      <td>1</td>\n",
       "      <td>0</td>\n",
       "      <td>0</td>\n",
       "      <td>1</td>\n",
       "    </tr>\n",
       "    <tr>\n",
       "      <th>3</th>\n",
       "      <td>1.0</td>\n",
       "      <td>48.0</td>\n",
       "      <td>18925.230000</td>\n",
       "      <td>15.206193</td>\n",
       "      <td>0</td>\n",
       "      <td>120.249493</td>\n",
       "      <td>2164.579412</td>\n",
       "      <td>4</td>\n",
       "      <td>4</td>\n",
       "      <td>4</td>\n",
       "      <td>...</td>\n",
       "      <td>3</td>\n",
       "      <td>4.0</td>\n",
       "      <td>1</td>\n",
       "      <td>0</td>\n",
       "      <td>0</td>\n",
       "      <td>1</td>\n",
       "      <td>0</td>\n",
       "      <td>0</td>\n",
       "      <td>0</td>\n",
       "      <td>1</td>\n",
       "    </tr>\n",
       "    <tr>\n",
       "      <th>4</th>\n",
       "      <td>0.0</td>\n",
       "      <td>83.0</td>\n",
       "      <td>40074.190000</td>\n",
       "      <td>8.960316</td>\n",
       "      <td>1</td>\n",
       "      <td>150.761216</td>\n",
       "      <td>271.493436</td>\n",
       "      <td>4</td>\n",
       "      <td>4</td>\n",
       "      <td>4</td>\n",
       "      <td>...</td>\n",
       "      <td>5</td>\n",
       "      <td>3.0</td>\n",
       "      <td>1</td>\n",
       "      <td>0</td>\n",
       "      <td>0</td>\n",
       "      <td>0</td>\n",
       "      <td>1</td>\n",
       "      <td>0</td>\n",
       "      <td>0</td>\n",
       "      <td>0</td>\n",
       "    </tr>\n",
       "  </tbody>\n",
       "</table>\n",
       "<p>5 rows × 24 columns</p>\n",
       "</div>"
      ],
      "text/plain": [
       "   Children   Age        Income  Outage_sec_perweek  Yearly_equip_failure  \\\n",
       "0       1.0  68.0  28561.990000            6.972566                     1   \n",
       "1       1.0  27.0  21704.770000           12.014541                     1   \n",
       "2       4.0  50.0  39936.762226           10.245616                     1   \n",
       "3       1.0  48.0  18925.230000           15.206193                     0   \n",
       "4       0.0  83.0  40074.190000            8.960316                     1   \n",
       "\n",
       "   MonthlyCharge  Bandwidth_GB_Year  Timely_Response  Timely_Fixes  \\\n",
       "0     171.449762         904.536110                5             5   \n",
       "1     242.948015         800.982766                3             4   \n",
       "2     159.440398        2054.706961                4             4   \n",
       "3     120.249493        2164.579412                4             4   \n",
       "4     150.761216         271.493436                4             4   \n",
       "\n",
       "   Timely_Replacement  ...  Evidence_of_active_listening  Sum_services  \\\n",
       "0                   5  ...                             4           5.0   \n",
       "1                   3  ...                             4           6.0   \n",
       "2                   2  ...                             3           4.0   \n",
       "3                   4  ...                             3           4.0   \n",
       "4                   4  ...                             5           3.0   \n",
       "\n",
       "   Dummy_Suburban  Dummy_Urban  Dummy_Part Time  Dummy_Retired  Dummy_Student  \\\n",
       "0               0            1                1              0              0   \n",
       "1               0            1                0              1              0   \n",
       "2               0            1                0              0              1   \n",
       "3               1            0                0              1              0   \n",
       "4               1            0                0              0              1   \n",
       "\n",
       "   Dummy_Unemployed  Dummy_One year  Dummy_Two Year  \n",
       "0                 0               1               0  \n",
       "1                 0               0               0  \n",
       "2                 0               0               1  \n",
       "3                 0               0               1  \n",
       "4                 0               0               0  \n",
       "\n",
       "[5 rows x 24 columns]"
      ]
     },
     "execution_count": 77,
     "metadata": {},
     "output_type": "execute_result"
    }
   ],
   "source": [
    "#Look at dataset head\n",
    "df_model.head()"
   ]
  },
  {
   "cell_type": "code",
   "execution_count": 78,
   "id": "ec3551a3",
   "metadata": {},
   "outputs": [
    {
     "data": {
      "text/plain": [
       "StandardScaler()"
      ]
     },
     "execution_count": 78,
     "metadata": {},
     "output_type": "execute_result"
    }
   ],
   "source": [
    "#Standardize the data.\n",
    "scaler = StandardScaler()\n",
    "scaler.fit(df_model)"
   ]
  },
  {
   "cell_type": "code",
   "execution_count": 79,
   "id": "0a3bbbd0",
   "metadata": {},
   "outputs": [],
   "source": [
    "#Transform Data\n",
    "scaled_data = scaler.transform(df_model)"
   ]
  },
  {
   "cell_type": "code",
   "execution_count": 80,
   "id": "8f64beda",
   "metadata": {},
   "outputs": [
    {
     "data": {
      "text/plain": [
       "array([0.12285691, 0.19776432, 0.26616659, 0.32876732, 0.38286168,\n",
       "       0.4297291 , 0.47608935, 0.52229065, 0.56566287, 0.60770592,\n",
       "       0.64952788, 0.69093682, 0.73177813, 0.77151387, 0.80406181,\n",
       "       0.83338206, 0.86238428, 0.88983752, 0.91449733, 0.93690914,\n",
       "       0.95785521, 0.9776251 , 0.991136  , 1.        ])"
      ]
     },
     "execution_count": 80,
     "metadata": {},
     "output_type": "execute_result"
    }
   ],
   "source": [
    "#Find Eigen Value\n",
    "pca = decomposition.PCA(n_components = 24)\n",
    "pca_X = pca.fit(scaled_data)\n",
    "variance_retained_ratio = pca_X.explained_variance_ratio_.cumsum()\n",
    "variance_retained_ratio"
   ]
  },
  {
   "cell_type": "code",
   "execution_count": 81,
   "id": "eb0eb8d8",
   "metadata": {
    "scrolled": true
   },
   "outputs": [
    {
     "name": "stdout",
     "output_type": "stream",
     "text": [
      "[0.12285691 0.07490741 0.06840226 0.06260074 0.05409436 0.04686742\n",
      " 0.04636025 0.0462013  0.04337221 0.04204305 0.04182196 0.04140894\n",
      " 0.04084131 0.03973574 0.03254793 0.02932026 0.02900221 0.02745324\n",
      " 0.02465982 0.0224118  0.02094607 0.01976989 0.01351091 0.008864  ]\n"
     ]
    }
   ],
   "source": [
    "#Print Individual Explain Variance\n",
    "print(pca.explained_variance_ratio_)"
   ]
  },
  {
   "cell_type": "code",
   "execution_count": 82,
   "id": "77229c7c",
   "metadata": {},
   "outputs": [
    {
     "name": "stdout",
     "output_type": "stream",
     "text": [
      "(24, 24)\n"
     ]
    },
    {
     "data": {
      "text/plain": [
       "array([[ 1.00010001e+00, -1.90689958e-02,  1.21873002e-02,\n",
       "         3.08619537e-03,  1.31840853e-02, -3.09626036e-03,\n",
       "         1.03231673e-02,  7.76483721e-03,  1.83469845e-03,\n",
       "        -5.43456843e-03, -1.34631630e-02, -5.98478962e-03,\n",
       "         6.38484993e-04,  5.82501149e-03, -9.20422044e-03,\n",
       "        -2.89679113e-03, -1.33001846e-03, -2.70845700e-04,\n",
       "         6.62123803e-03,  9.20772065e-03,  3.53835028e-03,\n",
       "        -1.04447167e-02,  1.70917067e-02,  1.51644646e-02],\n",
       "       [-1.90689958e-02,  1.00010001e+00,  9.36319188e-04,\n",
       "        -1.56554983e-02,  6.50952841e-03,  7.01122055e-03,\n",
       "        -2.15932988e-02, -6.79548372e-03,  9.06880177e-03,\n",
       "        -4.62900464e-03,  9.67089897e-03, -4.13500314e-03,\n",
       "         7.51490430e-03,  1.71117344e-03,  1.54555287e-02,\n",
       "         5.35821784e-03, -6.23405809e-05,  1.45096173e-02,\n",
       "         5.81470849e-03,  6.91450451e-03,  3.98985413e-03,\n",
       "        -3.09808862e-03, -2.33372292e-03, -6.24200005e-03],\n",
       "       [ 1.21873002e-02,  9.36319188e-04,  1.00010001e+00,\n",
       "         5.40347013e-03, -1.76158106e-03, -5.06929027e-03,\n",
       "         2.82311296e-03,  8.32947499e-04,  6.75664857e-03,\n",
       "        -4.14277988e-03, -1.96089784e-02,  9.23672930e-03,\n",
       "        -2.93854775e-03,  1.11414969e-02, -4.76204409e-03,\n",
       "        -5.55511456e-03,  2.59256573e-03,  4.48594935e-03,\n",
       "         1.00950501e-02, -5.57330681e-03,  1.14352770e-02,\n",
       "        -1.32201615e-03, -6.19979147e-03, -1.28904572e-02],\n",
       "       [ 3.08619537e-03, -1.56554983e-02,  5.40347013e-03,\n",
       "         1.00010001e+00,  1.70845139e-02,  1.30700973e-01,\n",
       "         1.42868393e-02, -1.39029352e-02, -1.76896942e-02,\n",
       "        -2.98613284e-02,  9.71154819e-03, -7.65315411e-03,\n",
       "        -5.40210456e-04, -1.36664404e-02,  1.03323697e-02,\n",
       "        -8.74977769e-04,  3.91982807e-03, -1.41652487e-02,\n",
       "         2.03025101e-02, -3.89719026e-04,  1.09993012e-02,\n",
       "        -1.78130058e-03, -8.28010135e-04,  9.48087481e-03],\n",
       "       [ 1.31840853e-02,  6.50952841e-03, -1.76158106e-03,\n",
       "         1.70845139e-02,  1.00010001e+00, -4.54347556e-03,\n",
       "         1.12994787e-02,  7.51918845e-03, -9.77394063e-03,\n",
       "        -9.37249731e-03, -6.90696002e-03,  3.41586392e-03,\n",
       "        -3.99494387e-03, -1.03693252e-02, -9.86007126e-03,\n",
       "        -9.24050845e-03,  6.09672817e-03, -8.72686585e-03,\n",
       "        -1.27226859e-02,  3.24488360e-04, -1.31467297e-02,\n",
       "        -8.64142046e-03,  1.17353436e-02, -7.29064329e-03],\n",
       "       [-3.09626036e-03,  7.01122055e-03, -5.06929027e-03,\n",
       "         1.30700973e-01, -4.54347556e-03,  1.00010001e+00,\n",
       "         5.72325404e-02,  9.01452944e-03,  1.08815118e-03,\n",
       "        -1.17907594e-02,  1.55483640e-03, -6.47012231e-03,\n",
       "         3.85413841e-03, -7.12162178e-03,  3.29359403e-03,\n",
       "         7.76004396e-01, -2.05195900e-03,  2.43051557e-03,\n",
       "         6.10730164e-03,  5.52417170e-03, -1.32803960e-03,\n",
       "        -6.31520686e-03,  1.27345647e-02,  2.72188381e-03],\n",
       "       [ 1.03231673e-02, -2.15932988e-02,  2.82311296e-03,\n",
       "         1.42868393e-02,  1.12994787e-02,  5.72325404e-02,\n",
       "         1.00010001e+00, -6.80367557e-03,  6.10588271e-03,\n",
       "        -6.04351406e-03, -7.70062163e-03,  2.21014302e-02,\n",
       "        -9.30774788e-03,  2.65500743e-03, -1.20324922e-02,\n",
       "         6.36248317e-02, -2.74192206e-03, -1.14656704e-02,\n",
       "         1.77772205e-02, -6.81803993e-03,  8.49654489e-03,\n",
       "        -1.85359694e-02, -5.10913314e-03,  2.03515472e-02],\n",
       "       [ 7.76483721e-03, -6.79548372e-03,  8.32947499e-04,\n",
       "        -1.39029352e-02,  7.51918845e-03,  9.01452944e-03,\n",
       "        -6.80367557e-03,  1.00010001e+00,  6.63135055e-01,\n",
       "         5.78070340e-01, -5.04802652e-03, -2.55357184e-03,\n",
       "         4.02843983e-01,  3.36815955e-01,  2.92757174e-01,\n",
       "         1.48672942e-02, -3.72066329e-03,  4.31239656e-04,\n",
       "        -1.70765220e-03,  6.33013378e-03, -2.32856644e-03,\n",
       "        -4.31642812e-03,  6.22969973e-03,  5.53273519e-04],\n",
       "       [ 1.83469845e-03,  9.06880177e-03,  6.75664857e-03,\n",
       "        -1.76896942e-02, -9.77394063e-03,  1.08815118e-03,\n",
       "         6.10588271e-03,  6.63135055e-01,  1.00010001e+00,\n",
       "         5.20246242e-01, -2.43818242e-03,  1.26044759e-03,\n",
       "         3.63283331e-01,  3.00353939e-01,  2.54284774e-01,\n",
       "         1.15432107e-02,  2.03543223e-03, -2.35269169e-03,\n",
       "        -1.30718067e-02, -2.45500277e-03,  2.73813784e-05,\n",
       "         1.21144809e-02, -3.72957036e-03,  3.27293211e-03],\n",
       "       [-5.43456843e-03, -4.62900464e-03, -4.14277988e-03,\n",
       "        -2.98613284e-02, -9.37249731e-03, -1.17907594e-02,\n",
       "        -6.04351406e-03,  5.78070340e-01,  5.20246242e-01,\n",
       "         1.00010001e+00, -9.27862783e-03, -3.36311341e-03,\n",
       "         3.16876687e-01,  2.64859424e-01,  2.15231581e-01,\n",
       "        -5.29651675e-03, -8.35129568e-03, -1.61574787e-02,\n",
       "        -3.64753567e-03,  2.14395044e-03,  2.62178475e-02,\n",
       "        -1.50337219e-03,  1.41661522e-02,  3.33948666e-03],\n",
       "       [-1.34631630e-02,  9.67089897e-03, -1.96089784e-02,\n",
       "         9.71154819e-03, -6.90696002e-03,  1.55483640e-03,\n",
       "        -7.70062163e-03, -5.04802652e-03, -2.43818242e-03,\n",
       "        -9.27862783e-03,  1.00010001e+00, -4.38143490e-01,\n",
       "         2.36018669e-01,  1.95786310e-01,  1.55774854e-01,\n",
       "         1.75767542e-03,  1.72845132e-03, -8.31468045e-03,\n",
       "        -1.95924699e-02,  2.91965679e-03,  1.33492785e-02,\n",
       "        -5.22818242e-03, -7.35690503e-03,  2.50773463e-04],\n",
       "       [-5.98478962e-03, -4.13500314e-03,  9.23672930e-03,\n",
       "        -7.65315411e-03,  3.41586392e-03, -6.47012231e-03,\n",
       "         2.21014302e-02, -2.55357184e-03,  1.26044759e-03,\n",
       "        -3.36311341e-03, -4.38143490e-01,  1.00010001e+00,\n",
       "        -3.04826247e-01, -2.64592826e-01, -1.85664204e-01,\n",
       "        -2.36438901e-03, -5.63475177e-03,  8.10305158e-03,\n",
       "         1.32239110e-02, -5.93139830e-03,  4.24722278e-03,\n",
       "        -4.78138966e-04,  1.89800939e-03,  1.23437416e-02],\n",
       "       [ 6.38484993e-04,  7.51490430e-03, -2.93854775e-03,\n",
       "        -5.40210456e-04, -3.99494387e-03,  3.85413841e-03,\n",
       "        -9.30774788e-03,  4.02843983e-01,  3.63283331e-01,\n",
       "         3.16876687e-01,  2.36018669e-01, -3.04826247e-01,\n",
       "         1.00010001e+00,  3.80140648e-01,  3.08135417e-01,\n",
       "         4.68385906e-03, -3.06912232e-03, -3.39207512e-03,\n",
       "        -1.55785144e-02,  3.92557395e-03,  6.75488944e-03,\n",
       "         2.64769803e-03,  1.08474103e-02, -2.11872714e-03],\n",
       "       [ 5.82501149e-03,  1.71117344e-03,  1.11414969e-02,\n",
       "        -1.36664404e-02, -1.03693252e-02, -7.12162178e-03,\n",
       "         2.65500743e-03,  3.36815955e-01,  3.00353939e-01,\n",
       "         2.64859424e-01,  1.95786310e-01, -2.64592826e-01,\n",
       "         3.80140648e-01,  1.00010001e+00,  2.51566501e-01,\n",
       "        -1.81291109e-03,  2.10479180e-03, -1.03411130e-02,\n",
       "        -1.52456953e-02, -7.77547693e-03,  1.92484207e-03,\n",
       "        -1.26647468e-02, -3.09522160e-03,  9.00902699e-03],\n",
       "       [-9.20422044e-03,  1.54555287e-02, -4.76204409e-03,\n",
       "         1.03323697e-02, -9.86007126e-03,  3.29359403e-03,\n",
       "        -1.20324922e-02,  2.92757174e-01,  2.54284774e-01,\n",
       "         2.15231581e-01,  1.55774854e-01, -1.85664204e-01,\n",
       "         3.08135417e-01,  2.51566501e-01,  1.00010001e+00,\n",
       "         1.22624667e-02,  7.67049241e-04, -8.22560740e-03,\n",
       "        -2.04999850e-02,  7.07906940e-03,  1.32572420e-02,\n",
       "         7.76438694e-03, -3.52011622e-03, -1.02422833e-02],\n",
       "       [-2.89679113e-03,  5.35821784e-03, -5.55511456e-03,\n",
       "        -8.74977769e-04, -9.24050845e-03,  7.76004396e-01,\n",
       "         6.36248317e-02,  1.48672942e-02,  1.15432107e-02,\n",
       "        -5.29651675e-03,  1.75767542e-03, -2.36438901e-03,\n",
       "         4.68385906e-03, -1.81291109e-03,  1.22624667e-02,\n",
       "         1.00010001e+00, -7.18552977e-03,  5.75930874e-03,\n",
       "        -1.63810871e-03,  1.05554670e-02, -5.59720688e-05,\n",
       "        -5.44379298e-03,  1.40431416e-02,  5.78000038e-03],\n",
       "       [-1.33001846e-03, -6.23405809e-05,  2.59256573e-03,\n",
       "         3.91982807e-03,  6.09672817e-03, -2.05195900e-03,\n",
       "        -2.74192206e-03, -3.72066329e-03,  2.03543223e-03,\n",
       "        -8.35129568e-03,  1.72845132e-03, -5.63475177e-03,\n",
       "        -3.06912232e-03,  2.10479180e-03,  7.67049241e-04,\n",
       "        -7.18552977e-03,  1.00010001e+00, -5.00761394e-01,\n",
       "         6.48429294e-03, -9.00370577e-04, -7.57959475e-03,\n",
       "         3.83860639e-03, -8.49432851e-03,  8.34111688e-03],\n",
       "       [-2.70845700e-04,  1.45096173e-02,  4.48594935e-03,\n",
       "        -1.41652487e-02, -8.72686585e-03,  2.43051557e-03,\n",
       "        -1.14656704e-02,  4.31239656e-04, -2.35269169e-03,\n",
       "        -1.61574787e-02, -8.31468045e-03,  8.10305158e-03,\n",
       "        -3.39207512e-03, -1.03411130e-02, -8.22560740e-03,\n",
       "         5.75930874e-03, -5.00761394e-01,  1.00010001e+00,\n",
       "        -1.15835386e-02,  1.15491091e-03, -1.63414913e-02,\n",
       "        -8.31531561e-03,  4.51367273e-03, -8.62303675e-03],\n",
       "       [ 6.62123803e-03,  5.81470849e-03,  1.00950501e-02,\n",
       "         2.03025101e-02, -1.27226859e-02,  6.10730164e-03,\n",
       "         1.77772205e-02, -1.70765220e-03, -1.30718067e-02,\n",
       "        -3.64753567e-03, -1.95924699e-02,  1.32239110e-02,\n",
       "        -1.55785144e-02, -1.52456953e-02, -2.04999850e-02,\n",
       "        -1.63810871e-03,  6.48429294e-03, -1.15835386e-02,\n",
       "         1.00010001e+00, -1.14390945e-01, -1.11409485e-01,\n",
       "        -1.13128049e-01,  1.12247135e-02,  7.27176772e-03],\n",
       "       [ 9.20772065e-03,  6.91450451e-03, -5.57330681e-03,\n",
       "        -3.89719026e-04,  3.24488360e-04,  5.52417170e-03,\n",
       "        -6.81803993e-03,  6.33013378e-03, -2.45500277e-03,\n",
       "         2.14395044e-03,  2.91965679e-03, -5.93139830e-03,\n",
       "         3.92557395e-03, -7.77547693e-03,  7.07906940e-03,\n",
       "         1.05554670e-02, -9.00370577e-04,  1.15491091e-03,\n",
       "        -1.14390945e-01,  1.00010001e+00, -1.09550339e-01,\n",
       "        -1.11240224e-01, -1.50728465e-02,  1.08988293e-02],\n",
       "       [ 3.53835028e-03,  3.98985413e-03,  1.14352770e-02,\n",
       "         1.09993012e-02, -1.31467297e-02, -1.32803960e-03,\n",
       "         8.49654489e-03, -2.32856644e-03,  2.73813784e-05,\n",
       "         2.62178475e-02,  1.33492785e-02,  4.24722278e-03,\n",
       "         6.75488944e-03,  1.92484207e-03,  1.32572420e-02,\n",
       "        -5.59720688e-05, -7.57959475e-03, -1.63414913e-02,\n",
       "        -1.11409485e-01, -1.09550339e-01,  1.00010001e+00,\n",
       "        -1.08340883e-01,  1.11168649e-02, -1.68862360e-02],\n",
       "       [-1.04447167e-02, -3.09808862e-03, -1.32201615e-03,\n",
       "        -1.78130058e-03, -8.64142046e-03, -6.31520686e-03,\n",
       "        -1.85359694e-02, -4.31642812e-03,  1.21144809e-02,\n",
       "        -1.50337219e-03, -5.22818242e-03, -4.78138966e-04,\n",
       "         2.64769803e-03, -1.26647468e-02,  7.76438694e-03,\n",
       "        -5.44379298e-03,  3.83860639e-03, -8.31531561e-03,\n",
       "        -1.13128049e-01, -1.11240224e-01, -1.08340883e-01,\n",
       "         1.00010001e+00, -3.53907077e-03, -7.79269308e-03],\n",
       "       [ 1.70917067e-02, -2.33372292e-03, -6.19979147e-03,\n",
       "        -8.28010135e-04,  1.17353436e-02,  1.27345647e-02,\n",
       "        -5.10913314e-03,  6.22969973e-03, -3.72957036e-03,\n",
       "         1.41661522e-02, -7.35690503e-03,  1.89800939e-03,\n",
       "         1.08474103e-02, -3.09522160e-03, -3.52011622e-03,\n",
       "         1.40431416e-02, -8.49432851e-03,  4.51367273e-03,\n",
       "         1.12247135e-02, -1.50728465e-02,  1.11168649e-02,\n",
       "        -3.53907077e-03,  1.00010001e+00, -2.93272005e-01],\n",
       "       [ 1.51644646e-02, -6.24200005e-03, -1.28904572e-02,\n",
       "         9.48087481e-03, -7.29064329e-03,  2.72188381e-03,\n",
       "         2.03515472e-02,  5.53273519e-04,  3.27293211e-03,\n",
       "         3.33948666e-03,  2.50773463e-04,  1.23437416e-02,\n",
       "        -2.11872714e-03,  9.00902699e-03, -1.02422833e-02,\n",
       "         5.78000038e-03,  8.34111688e-03, -8.62303675e-03,\n",
       "         7.27176772e-03,  1.08988293e-02, -1.68862360e-02,\n",
       "        -7.79269308e-03, -2.93272005e-01,  1.00010001e+00]])"
      ]
     },
     "execution_count": 82,
     "metadata": {},
     "output_type": "execute_result"
    }
   ],
   "source": [
    "#Print Covariance Matrix\n",
    "covariance_matrix_Sigma = pca.get_covariance()\n",
    "print (covariance_matrix_Sigma.shape)\n",
    "covariance_matrix_Sigma"
   ]
  },
  {
   "cell_type": "code",
   "execution_count": 83,
   "id": "0b2d81b7",
   "metadata": {
    "scrolled": true
   },
   "outputs": [
    {
     "data": {
      "image/png": "[encoded data removed]",
      "text/plain": [
       "<Figure size 432x288 with 1 Axes>"
      ]
     },
     "metadata": {
      "needs_background": "light"
     },
     "output_type": "display_data"
    }
   ],
   "source": [
    "#Scree Plot\n",
    "plt.plot(pca.explained_variance_ratio_)\n",
    "plt.xlabel('Number of Components')\n",
    "plt.ylabel('Eigenvalue')\n",
    "plt.show()"
   ]
  },
  {
   "cell_type": "code",
   "execution_count": 84,
   "id": "d3254411",
   "metadata": {},
   "outputs": [
    {
     "data": {
      "image/png": "[encoded data removed]",
      "text/plain": [
       "<Figure size 432x288 with 1 Axes>"
      ]
     },
     "metadata": {
      "needs_background": "light"
     },
     "output_type": "display_data"
    }
   ],
   "source": [
    "#Plot Total Explained Variances N=20\n",
    "plt.plot(variance_retained_ratio)\n",
    "plt.xlabel('Number of Components')\n",
    "plt.ylabel('Explained Variance')\n",
    "plt.show()"
   ]
  },
  {
   "cell_type": "code",
   "execution_count": 85,
   "id": "8ad69976",
   "metadata": {
    "scrolled": true
   },
   "outputs": [
    {
     "name": "stdout",
     "output_type": "stream",
     "text": [
      "Children 0.12285691015056698\n",
      "Age 0.19776432159078824\n",
      "Income 0.26616658650640324\n",
      "Outage_sec_perweek 0.32876732211047793\n",
      "Yearly_equip_failure 0.3828616803137391\n",
      "MonthlyCharge 0.4297291044944567\n",
      "Bandwidth_GB_Year 0.4760893500256116\n",
      "Timely_Response 0.5222906549663214\n",
      "Timely_Fixes 0.5656628685980641\n",
      "Timely_Replacement 0.60770592334573\n",
      "Reliability 0.649527883699912\n",
      "Options 0.690936824045443\n",
      "Respectable_Response 0.731778133457208\n",
      "Courteous_Exchange 0.7715138734106851\n",
      "Evidence_of_active_listening 0.8040618058411168\n",
      "Sum_services 0.8333820643817287\n",
      "Dummy_Suburban 0.8623842776891003\n",
      "Dummy_Urban 0.8898375155786146\n",
      "Dummy_Part Time 0.914497333714448\n",
      "Dummy_Retired 0.9369091380886915\n",
      "Dummy_Student 0.9578552054927054\n",
      "Dummy_Unemployed 0.9776250965965919\n",
      "Dummy_One year 0.991136002817935\n",
      "Dummy_Two Year 1.0\n"
     ]
    }
   ],
   "source": [
    "#Selecting the fewest components\n",
    "for pc, var in zip(df_model, (variance_retained_ratio)):\n",
    "    print(pc, var)"
   ]
  },
  {
   "cell_type": "code",
   "execution_count": 86,
   "id": "6caf80d0",
   "metadata": {},
   "outputs": [
    {
     "name": "stdout",
     "output_type": "stream",
     "text": [
      "Component importance:\n"
     ]
    },
    {
     "data": {
      "text/html": [
       "<div>\n",
       "<style scoped>\n",
       "    .dataframe tbody tr th:only-of-type {\n",
       "        vertical-align: middle;\n",
       "    }\n",
       "\n",
       "    .dataframe tbody tr th {\n",
       "        vertical-align: top;\n",
       "    }\n",
       "\n",
       "    .dataframe thead th {\n",
       "        text-align: right;\n",
       "    }\n",
       "</style>\n",
       "<table border=\"1\" class=\"dataframe\">\n",
       "  <thead>\n",
       "    <tr style=\"text-align: right;\">\n",
       "      <th></th>\n",
       "      <th>Standard Deviation</th>\n",
       "    </tr>\n",
       "  </thead>\n",
       "  <tbody>\n",
       "    <tr>\n",
       "      <th>PC 1</th>\n",
       "      <td>2.948566</td>\n",
       "    </tr>\n",
       "    <tr>\n",
       "      <th>PC 2</th>\n",
       "      <td>1.797778</td>\n",
       "    </tr>\n",
       "    <tr>\n",
       "      <th>PC 3</th>\n",
       "      <td>1.641654</td>\n",
       "    </tr>\n",
       "    <tr>\n",
       "      <th>PC 4</th>\n",
       "      <td>1.502418</td>\n",
       "    </tr>\n",
       "    <tr>\n",
       "      <th>PC 5</th>\n",
       "      <td>1.298265</td>\n",
       "    </tr>\n",
       "    <tr>\n",
       "      <th>PC 6</th>\n",
       "      <td>1.124818</td>\n",
       "    </tr>\n",
       "    <tr>\n",
       "      <th>PC 7</th>\n",
       "      <td>1.112646</td>\n",
       "    </tr>\n",
       "    <tr>\n",
       "      <th>PC 8</th>\n",
       "      <td>1.108831</td>\n",
       "    </tr>\n",
       "    <tr>\n",
       "      <th>PC 9</th>\n",
       "      <td>1.040933</td>\n",
       "    </tr>\n",
       "    <tr>\n",
       "      <th>PC 10</th>\n",
       "      <td>1.009033</td>\n",
       "    </tr>\n",
       "    <tr>\n",
       "      <th>PC 11</th>\n",
       "      <td>1.003727</td>\n",
       "    </tr>\n",
       "    <tr>\n",
       "      <th>PC 12</th>\n",
       "      <td>0.993815</td>\n",
       "    </tr>\n",
       "    <tr>\n",
       "      <th>PC 13</th>\n",
       "      <td>0.980191</td>\n",
       "    </tr>\n",
       "    <tr>\n",
       "      <th>PC 14</th>\n",
       "      <td>0.953658</td>\n",
       "    </tr>\n",
       "    <tr>\n",
       "      <th>PC 15</th>\n",
       "      <td>0.781150</td>\n",
       "    </tr>\n",
       "    <tr>\n",
       "      <th>PC 16</th>\n",
       "      <td>0.703686</td>\n",
       "    </tr>\n",
       "    <tr>\n",
       "      <th>PC 17</th>\n",
       "      <td>0.696053</td>\n",
       "    </tr>\n",
       "    <tr>\n",
       "      <th>PC 18</th>\n",
       "      <td>0.658878</td>\n",
       "    </tr>\n",
       "    <tr>\n",
       "      <th>PC 19</th>\n",
       "      <td>0.591836</td>\n",
       "    </tr>\n",
       "    <tr>\n",
       "      <th>PC 20</th>\n",
       "      <td>0.537883</td>\n",
       "    </tr>\n",
       "    <tr>\n",
       "      <th>PC 21</th>\n",
       "      <td>0.502706</td>\n",
       "    </tr>\n",
       "    <tr>\n",
       "      <th>PC 22</th>\n",
       "      <td>0.474477</td>\n",
       "    </tr>\n",
       "    <tr>\n",
       "      <th>PC 23</th>\n",
       "      <td>0.324262</td>\n",
       "    </tr>\n",
       "    <tr>\n",
       "      <th>PC 24</th>\n",
       "      <td>0.212736</td>\n",
       "    </tr>\n",
       "  </tbody>\n",
       "</table>\n",
       "</div>"
      ],
      "text/plain": [
       "       Standard Deviation\n",
       "PC 1             2.948566\n",
       "PC 2             1.797778\n",
       "PC 3             1.641654\n",
       "PC 4             1.502418\n",
       "PC 5             1.298265\n",
       "PC 6             1.124818\n",
       "PC 7             1.112646\n",
       "PC 8             1.108831\n",
       "PC 9             1.040933\n",
       "PC 10            1.009033\n",
       "PC 11            1.003727\n",
       "PC 12            0.993815\n",
       "PC 13            0.980191\n",
       "PC 14            0.953658\n",
       "PC 15            0.781150\n",
       "PC 16            0.703686\n",
       "PC 17            0.696053\n",
       "PC 18            0.658878\n",
       "PC 19            0.591836\n",
       "PC 20            0.537883\n",
       "PC 21            0.502706\n",
       "PC 22            0.474477\n",
       "PC 23            0.324262\n",
       "PC 24            0.212736"
      ]
     },
     "execution_count": 86,
     "metadata": {},
     "output_type": "execute_result"
    }
   ],
   "source": [
    "# List importance of components\n",
    "def pca_summary(pca, standardized_data, out=True):\n",
    " names = ['PC ' + str(i) for i in range(1, len(pca.explained_variance_ratio_) + 1)]\n",
    " a = list(np.std(pca.transform(standardized_data), axis = 0))\n",
    " b = list(pca.explained_variance_ratio_)\n",
    " c = [np.sum(pca.explained_variance_ratio_[:i]) for i in range(1, len(pca.explained_variance_ratio_) + 1)]\n",
    " columns = pd.MultiIndex.from_tuples([('standard_deviation', 'Standard Deviation'),\n",
    " ('proportion_of_variation', 'Proportion of Variation'),\n",
    " ('cumulative_proportion', 'Cumulative Proportion')])\n",
    " summary = pd.DataFrame(zip(a, b, c), index=names, columns=columns)\n",
    " if out:\n",
    "     print('Component importance:')\n",
    " return summary\n",
    "# Display summary\n",
    "summary = pca_summary(pca, scaled_data)\n",
    "summary.standard_deviation**2"
   ]
  },
  {
   "cell_type": "code",
   "execution_count": 87,
   "id": "1f6c0983",
   "metadata": {},
   "outputs": [
    {
     "name": "stdout",
     "output_type": "stream",
     "text": [
      "Eigenvectors \n",
      "[[ 2.13323476e-04 -2.94445031e-03  1.04892554e-02 -1.20094324e-03\n",
      "  -5.46848404e-04  8.25649965e-03 -1.31650942e-03 -1.82630149e-02\n",
      "   1.06467613e-02  1.39989601e-02 -1.50241864e-02  2.52824213e-02\n",
      "  -7.47565027e-02 -6.14066392e-03  3.85119901e-02  1.16205691e-01\n",
      "  -1.11782290e-01  2.00658563e-02  2.68952330e-01 -5.00240510e-01\n",
      "  -6.02576905e-01  3.88919184e-01 -2.01559966e-01 -2.95349501e-01]\n",
      " [ 4.99586893e-03  6.51359389e-03 -1.80207512e-02  2.39664174e-02\n",
      "   4.09124732e-03 -1.64347951e-02 -1.08297492e-02 -7.85309581e-04\n",
      "   2.13162409e-02 -1.72722090e-02 -1.29808548e-03  1.60484272e-02\n",
      "   1.38224195e-02 -1.02574661e-02 -5.85966524e-02 -4.23365871e-02\n",
      "  -3.35144479e-02  2.77414880e-02  5.35021015e-01  5.37047449e-01\n",
      "  -4.53010239e-02  2.99502672e-01  4.92709347e-01 -2.84636202e-01]\n",
      " [-9.02063364e-04 -8.78445598e-03  2.61558006e-02  1.01163224e-04\n",
      "  -4.85500350e-04 -4.88757150e-03 -1.92209441e-02 -6.00330758e-03\n",
      "   1.54115704e-02 -2.54054332e-03 -2.32408078e-03  3.86897947e-02\n",
      "   2.76666327e-02  6.22729988e-02 -2.41735493e-03  1.07345957e-01\n",
      "   2.13003074e-02 -6.49582519e-02 -1.57410243e-01 -1.32388154e-01\n",
      "   3.67929920e-01 -1.88663566e-01 -2.75796792e-02 -8.73031926e-01]\n",
      " [-1.29373918e-02  1.17147067e-01 -3.74155903e-02 -3.04502791e-02\n",
      "   1.18356642e-01  7.98976910e-03  1.70373134e-02 -1.72197002e-02\n",
      "  -4.35028531e-03 -1.44639991e-02 -1.58722183e-02  3.36721255e-02\n",
      "  -4.83805117e-03 -3.79017836e-02 -8.14069939e-02  1.46424985e-01\n",
      "   3.24705211e-02 -2.09862316e-02  3.49729420e-01 -3.57255105e-01\n",
      "  -1.51999620e-01 -6.73969948e-01  4.51196034e-01  7.50203647e-02]\n",
      " [-7.53800420e-03 -7.80870339e-03  7.68685976e-03 -1.96609556e-02\n",
      "   1.19853846e-03  2.08642126e-02 -3.96359925e-02 -7.20991541e-03\n",
      "  -3.07040077e-03  1.38027876e-03 -1.54912740e-02 -5.09768827e-02\n",
      "  -9.49342940e-03  1.60739702e-02  2.57910710e-02 -2.89657758e-03\n",
      "  -8.72540992e-02  6.00850194e-02 -4.44537276e-01 -3.66623973e-01\n",
      "   1.14413209e-01  3.94041225e-01  6.90683814e-01  6.96547024e-02]\n",
      " [ 3.15671422e-03  7.01868195e-01  1.06650607e-02 -1.73082553e-02\n",
      "  -7.06457815e-01 -5.15345707e-03  2.09628489e-04 -1.54861347e-02\n",
      "   3.62064215e-03 -5.30138579e-03  3.05961036e-04  3.61171629e-05\n",
      "  -1.14441659e-02 -1.26275177e-02 -1.46422100e-02 -2.26449846e-02\n",
      "   1.62542942e-02 -2.82918579e-04 -4.53543861e-02  2.06891442e-02\n",
      "  -5.20355627e-02 -1.86074024e-02  1.46454635e-02 -2.30650305e-02]\n",
      " [-7.30571155e-03  1.07075471e-01  3.18895204e-02 -2.41552161e-02\n",
      "  -6.73340705e-03 -1.39860593e-02  5.48010152e-02 -1.38694739e-02\n",
      "  -1.58406015e-02 -2.35381835e-02  1.94073701e-02  1.07234339e-02\n",
      "  -3.04006252e-02  1.11413951e-02  2.32811618e-02  2.10378956e-01\n",
      "  -2.09959415e-02 -5.69286388e-02  4.95540722e-01 -3.29396504e-01\n",
      "   6.61840595e-01  2.76076175e-01 -1.38132047e-01  2.12655785e-01]\n",
      " [ 4.58629155e-01 -2.50077159e-04  2.82165547e-01 -1.46570886e-02\n",
      "   9.47190707e-03 -7.92836262e-01  1.88205753e-03  2.06615353e-01\n",
      "  -1.16288168e-01  3.09236660e-02 -4.43424478e-02  6.53406642e-02\n",
      "  -6.60563597e-02  8.34360270e-02 -6.78734420e-02  3.29568948e-03\n",
      "  -8.82931947e-03  2.01566625e-02 -1.31429918e-02 -1.35979798e-02\n",
      "  -1.75351424e-02 -1.00223201e-02  1.93411926e-02  1.31552570e-02]\n",
      " [ 4.34074432e-01 -4.68598033e-03  2.84141572e-01 -2.00425097e-02\n",
      "  -1.41875058e-02  5.72520533e-01  1.06695940e-02  5.29280779e-01\n",
      "  -2.56845174e-01  8.14114363e-02 -5.91145624e-02  1.02151621e-01\n",
      "  -1.03029657e-01  1.12591500e-01 -1.07054295e-01 -1.42038719e-02\n",
      "   1.04072552e-02  6.63160906e-03  2.01768730e-02  5.11093432e-04\n",
      "   1.52509795e-03 -4.69483375e-03  1.08867389e-02  1.62520438e-03]\n",
      " [ 4.00667039e-01 -2.20485006e-02  2.81328096e-01 -2.16354377e-02\n",
      "   3.38009172e-03  1.78649896e-01 -8.09075264e-03 -6.16218814e-01\n",
      "   2.56121113e-01 -4.02674407e-01 -1.52609172e-01  5.56896515e-02\n",
      "  -9.82229104e-02  2.27225817e-01 -1.72366150e-01  2.90591047e-03\n",
      "  -1.10895128e-02 -2.03747286e-02 -1.80586865e-02  1.96345990e-02\n",
      "  -1.16425146e-02 -4.65361727e-03 -8.95949931e-03  3.20505328e-02]\n",
      " [ 1.45837234e-01  1.09088392e-02 -5.66822059e-01  4.19873222e-02\n",
      "  -3.33450354e-03 -1.71122166e-02  9.46249929e-03 -7.58264732e-02\n",
      "   6.09437870e-02  4.32208442e-01 -4.34477553e-01  2.17381186e-01\n",
      "  -1.81236232e-01  3.97193395e-01 -1.70969422e-01  2.05320276e-02\n",
      "   7.46316601e-03 -7.18815833e-03 -1.28784498e-02  6.95443346e-03\n",
      "   2.74065447e-02  2.34525040e-02 -1.38654595e-02  2.82722555e-02]\n",
      " [-1.75442541e-01 -1.21444477e-02  5.87515457e-01 -4.24097914e-02\n",
      "  -5.87767125e-03  4.29018829e-02  6.15768088e-03 -2.16949153e-01\n",
      "   1.80329133e-01  6.87480575e-01 -2.02244150e-01  1.16452638e-02\n",
      "   5.76328462e-02 -5.18387221e-02  1.27036863e-01 -2.11693127e-02\n",
      "  -1.42417084e-02 -3.23354903e-02  3.02884150e-02  2.04418857e-02\n",
      "   2.55723396e-03 -2.87070482e-02  2.55809240e-02  1.64017789e-02]\n",
      " [ 4.05016981e-01  2.96977552e-03 -1.81926343e-01  2.19324836e-02\n",
      "   3.68486975e-03  6.38383651e-02 -6.58995801e-03 -1.81232945e-01\n",
      "   1.67455098e-01  3.87298452e-01  7.58068527e-01 -6.80832509e-02\n",
      "   4.31377795e-02 -3.14031944e-02 -6.52669369e-02  1.27769034e-02\n",
      "   8.41108570e-03  1.64913648e-02  4.15971888e-04 -1.86233237e-02\n",
      "   3.15458806e-03  2.67260195e-03  7.12144349e-03 -4.93765318e-03]\n",
      " [ 3.58237267e-01 -8.00676269e-03 -1.78628412e-01  1.06505644e-02\n",
      "  -1.83420283e-03  4.13021444e-02  1.78864168e-02 -5.93240023e-02\n",
      "   2.20532154e-02  7.40685440e-02 -3.83882145e-01 -3.17305044e-01\n",
      "   2.74320226e-01 -6.82821064e-01 -1.75071647e-01  4.31989674e-02\n",
      "   7.57625308e-03  5.28389917e-03 -9.20799982e-03 -2.42360924e-02\n",
      "   3.50497991e-02  3.18186534e-02 -3.87768187e-02 -3.86904942e-02]\n",
      " [ 3.08861711e-01  9.22325358e-03 -1.33307954e-01  9.56952664e-03\n",
      "  -1.09756211e-02  4.32281492e-02 -5.09204556e-03 -4.29477562e-02\n",
      "   1.27323254e-02 -4.38256434e-02 -1.11968364e-01  4.52668420e-02\n",
      "   1.03229086e-01  3.79538274e-02  9.18656688e-01 -2.59378723e-02\n",
      "   4.87976807e-03 -1.19742060e-02  5.24269934e-02  1.93528731e-02\n",
      "  -3.77379404e-03 -5.94351941e-02  5.08165905e-02 -3.06025086e-03]\n",
      " [ 9.01264322e-03  6.92503959e-01  1.89182971e-02 -9.82438950e-03\n",
      "   6.97314760e-01  1.55020970e-02  6.95989938e-04  6.13631977e-05\n",
      "   6.80404937e-03  4.69158882e-03 -7.89319001e-03 -7.80879870e-03\n",
      "  -2.89926331e-03 -4.02474574e-04  1.26514231e-02 -5.02146238e-02\n",
      "   6.32105690e-03 -9.86457225e-04 -1.00096650e-01  7.47028424e-02\n",
      "  -2.01535345e-02  9.44643341e-02 -6.67285678e-02 -3.33025509e-02]\n",
      " [ 4.50848842e-04 -1.70725544e-02 -5.20105397e-02 -7.01462876e-01\n",
      "   5.52432307e-03  4.85209856e-03 -4.71754628e-02 -3.17176000e-01\n",
      "  -6.22763363e-01  7.19254095e-02  3.65446956e-02  5.66344708e-02\n",
      "   2.43049361e-03 -2.92590891e-02 -9.14221128e-04 -2.71551146e-02\n",
      "  -1.77375685e-02  1.77994415e-02  2.24029656e-04  3.73763904e-02\n",
      "  -7.18670515e-03  1.11927622e-02 -9.50552211e-03 -2.50281208e-02]\n",
      " [-8.85890480e-03  1.47420782e-02  5.25773902e-02  7.02528159e-01\n",
      "   2.41903396e-03  1.13037259e-02  5.20253517e-02 -3.19626450e-01\n",
      "  -6.25203044e-01  6.47123197e-02  2.63757729e-02  3.53510336e-02\n",
      "   2.40144395e-03 -2.09775583e-02  1.71945623e-03  1.15481029e-02\n",
      "   1.68402452e-02  1.23654034e-02 -6.17740954e-03 -9.26112979e-03\n",
      "   2.18655176e-04 -3.56271639e-03  1.42248171e-02 -4.80665314e-03]\n",
      " [-1.68814297e-02  9.18334515e-03  3.59648395e-02 -2.93027657e-02\n",
      "   2.39365326e-03  1.05276033e-02 -5.64010714e-03  6.20900018e-03\n",
      "  -3.80353116e-02  3.01566098e-02 -2.88950435e-02 -4.53277079e-01\n",
      "  -9.69295756e-02  1.97652557e-01  5.92274507e-02  6.94534266e-01\n",
      "   2.38458070e-01  4.05780734e-01 -7.05363986e-02  1.53973894e-01\n",
      "  -6.18909182e-02  5.52218332e-03 -4.65014422e-03  1.43764292e-02]\n",
      " [ 3.08467973e-03  1.40271442e-02 -1.14649009e-02  1.09809461e-02\n",
      "  -4.75207116e-03  6.78581099e-03  1.01674465e-01  7.46312252e-03\n",
      "  -3.30352226e-02  2.37458784e-02 -3.12067845e-02 -4.52540974e-01\n",
      "  -5.71012166e-02  1.90590502e-01  6.55217826e-03 -2.87826108e-01\n",
      "  -7.15772243e-01  3.34084990e-01  7.64941014e-02 -2.74849294e-02\n",
      "   7.74250716e-02 -1.37374536e-01 -5.03742703e-02 -3.50966086e-02]\n",
      " [ 1.01208387e-02  2.13040481e-04 -8.06773948e-03 -3.03041364e-03\n",
      "  -3.00157952e-03 -9.77505416e-03 -9.36805746e-02  2.63444825e-02\n",
      "  -7.31141473e-02  2.09384172e-02 -5.36551596e-03 -4.49686594e-01\n",
      "  -5.51680347e-02  1.81606042e-01  1.15899374e-02  1.50785224e-01\n",
      "  -1.38967961e-01 -8.31875477e-01 -2.43219247e-02  6.47229098e-02\n",
      "  -7.14225713e-02  1.00681858e-02  3.34419481e-02  2.98744506e-02]\n",
      " [ 8.24439858e-04 -1.64326948e-02  2.67314175e-03 -1.08113734e-02\n",
      "  -1.20433952e-03 -1.35639901e-02 -1.65899987e-02 -8.14506386e-03\n",
      "  -3.19806951e-02  2.03907813e-02 -3.77235110e-02 -4.50864489e-01\n",
      "  -5.06207157e-02  1.94051781e-01 -3.41735809e-03 -5.56312732e-01\n",
      "   6.18148961e-01  6.90963381e-02  1.37557823e-01 -1.79472612e-01\n",
      "   2.40403669e-02  3.07429061e-02  7.04546001e-03 -6.02996706e-02]\n",
      " [ 4.04266659e-03  2.08877076e-02  1.28053019e-02  4.66384637e-02\n",
      "  -3.20485418e-03  3.84029202e-03 -6.95225519e-01  3.24177179e-02\n",
      "  -2.77165112e-02 -5.46156786e-03 -2.34438812e-02  2.48399094e-02\n",
      "   6.44192479e-01  2.61614813e-01 -8.76011570e-02  1.32920352e-02\n",
      "  -5.15565572e-02  8.74708694e-02  5.86592540e-02 -4.78099480e-02\n",
      "  -7.60927882e-03  8.06768527e-03 -4.02505597e-02  4.21092716e-02]\n",
      " [-7.46482088e-04  3.54371746e-03  8.09929724e-03 -5.40573113e-02\n",
      "  -5.12095820e-03 -2.35943052e-03  6.97320249e-01  2.45441181e-02\n",
      "  -2.13433794e-02 -1.98576314e-02  8.34789994e-04  1.76262403e-02\n",
      "   6.40669389e-01  2.79003241e-01 -7.42138931e-02  4.64359387e-02\n",
      "   4.38952091e-02 -6.10487366e-02 -2.08766498e-02 -1.67573503e-02\n",
      "  -6.37637604e-02  4.72452848e-02  1.68701232e-02  5.57889559e-03]]\n",
      "\n",
      "Eigenvalues \n",
      "[2.94886073 1.79795767 1.64181854 1.50256791 0.21275721 0.32429418\n",
      " 1.29839444 0.47452484 0.50275589 0.5379371  0.59189482 0.6589436\n",
      " 0.70375658 0.69612273 0.7812285  1.12493067 1.11275717 1.10894221\n",
      " 0.95375313 1.04103723 0.98028945 0.99391396 1.00913423 1.00382743]\n"
     ]
    }
   ],
   "source": [
    "#Print Eigen Values and Vector\n",
    "eig_vals, eig_vecs = np.linalg.eig(covariance_matrix_Sigma)\n",
    "print('Eigenvectors \\n%s' %eig_vecs)\n",
    "print('\\nEigenvalues \\n%s' %eig_vals)"
   ]
  },
  {
   "cell_type": "code",
   "execution_count": 88,
   "id": "b931e21c",
   "metadata": {},
   "outputs": [
    {
     "data": {
      "text/plain": [
       "array([0.12285691, 0.19776431, 0.26616509, 0.32876521, 0.38285951,\n",
       "       0.4297194 , 0.47607864, 0.52227634, 0.56563874, 0.60767327,\n",
       "       0.64949448])"
      ]
     },
     "execution_count": 88,
     "metadata": {},
     "output_type": "execute_result"
    }
   ],
   "source": [
    "pca_b = decomposition.PCA(n_components = 11)\n",
    "pca_Z = pca_b.fit(scaled_data)\n",
    "variance_retained_ratio1 = pca_Z.explained_variance_ratio_.cumsum()\n",
    "variance_retained_ratio1"
   ]
  },
  {
   "cell_type": "code",
   "execution_count": 89,
   "id": "100224ed",
   "metadata": {},
   "outputs": [
    {
     "data": {
      "image/png": "[encoded data removed]",
      "text/plain": [
       "<Figure size 432x288 with 1 Axes>"
      ]
     },
     "metadata": {
      "needs_background": "light"
     },
     "output_type": "display_data"
    }
   ],
   "source": [
    "#Plot Total Explained Variance of Reduced principal components\n",
    "plt.plot(variance_retained_ratio1)\n",
    "plt.xlabel('Number of Components')\n",
    "plt.ylabel('Explained Variance')\n",
    "plt.show()"
   ]
  },
  {
   "cell_type": "code",
   "execution_count": 90,
   "id": "53e32717",
   "metadata": {},
   "outputs": [
    {
     "data": {
      "text/plain": [
       "array([0.12285691, 0.19775446])"
      ]
     },
     "execution_count": 90,
     "metadata": {},
     "output_type": "execute_result"
    }
   ],
   "source": [
    "pca_c = decomposition.PCA(n_components = 2)\n",
    "pca_Zx = pca_c.fit(scaled_data)\n",
    "variance_retained_ratio2 = pca_Zx.explained_variance_ratio_.cumsum()\n",
    "variance_retained_ratio2"
   ]
  },
  {
   "cell_type": "code",
   "execution_count": 91,
   "id": "1534424e",
   "metadata": {},
   "outputs": [
    {
     "data": {
      "image/png": "[encoded data removed]",
      "text/plain": [
       "<Figure size 432x288 with 1 Axes>"
      ]
     },
     "metadata": {
      "needs_background": "light"
     },
     "output_type": "display_data"
    }
   ],
   "source": [
    "#Plot Total Explained Variance of Reduced principal components\n",
    "plt.plot(variance_retained_ratio2)\n",
    "plt.xlabel('Number of Components')\n",
    "plt.ylabel('Explained Variance')\n",
    "plt.show()"
   ]
  },
  {
   "cell_type": "code",
   "execution_count": 92,
   "id": "48b790f2",
   "metadata": {},
   "outputs": [],
   "source": [
    "#Export cleaned dataset to a new CSV file\n",
    "df_model.to_csv('D212_Cleaned_Dataset.csv')\n"
   ]
  },
  {
   "cell_type": "code",
   "execution_count": null,
   "id": "d70f0860",
   "metadata": {},
   "outputs": [],
   "source": []
  }
 ],
 "metadata": {
  "kernelspec": {
   "display_name": "Python 3 (ipykernel)",
   "language": "python",
   "name": "python3"
  },
  "language_info": {
   "codemirror_mode": {
    "name": "ipython",
    "version": 3
   },
   "file_extension": ".py",
   "mimetype": "text/x-python",
   "name": "python",
   "nbconvert_exporter": "python",
   "pygments_lexer": "ipython3",
   "version": "3.11.4"
  }
 },
 "nbformat": 4,
 "nbformat_minor": 5
}
